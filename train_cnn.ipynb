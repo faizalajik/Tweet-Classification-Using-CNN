{
 "cells": [
  {
   "cell_type": "code",
   "execution_count": 1,
   "metadata": {
    "colab": {},
    "colab_type": "code",
    "id": "bZ4UJ7vo2m3X"
   },
   "outputs": [
    {
     "name": "stderr",
     "output_type": "stream",
     "text": [
      "Using TensorFlow backend.\n"
     ]
    }
   ],
   "source": [
    "from keras.preprocessing.text import text_to_word_sequence\n",
    "import pandas as pd\n",
    "from keras.preprocessing.text import Tokenizer\n",
    "import numpy as np\n",
    "import os\n",
    "import collections\n",
    "import re\n",
    "import string\n",
    "import nltk\n",
    "from nltk import word_tokenize, WordNetLemmatizer\n",
    "from Sastrawi.Stemmer.StemmerFactory import StemmerFactory\n",
    "from nltk.corpus import stopwords\n",
    "from keras.callbacks import EarlyStopping\n",
    "\n",
    "from keras.preprocessing import sequence\n",
    "from keras.models import Sequential\n",
    "from keras.layers import Dense, Dropout, Activation\n",
    "from keras.layers import Embedding\n",
    "from keras.layers import Conv1D, GlobalMaxPooling1D, MaxPooling1D\n",
    "from gensim.models import Word2Vec\n",
    "from gensim import models\n",
    "from keras.layers import Dense, Dropout, Reshape, Flatten, concatenate, Input, Embedding\n",
    "from keras.preprocessing.text import Tokenizer\n",
    "from keras.preprocessing.sequence import pad_sequences\n",
    "from keras.models import Model\n"
   ]
  },
  {
   "cell_type": "code",
   "execution_count": null,
   "metadata": {
    "colab": {},
    "colab_type": "code",
    "id": "7sR4z2--2m3j"
   },
   "outputs": [],
   "source": [
    "from google.colab import drive\n",
    "drive.mount('/content/drive')"
   ]
  },
  {
   "cell_type": "code",
   "execution_count": 2,
   "metadata": {
    "colab": {},
    "colab_type": "code",
    "id": "sH84Z7gK3AWx"
   },
   "outputs": [],
   "source": [
    "d = pd.read_csv('D:/Tugas/Skripsi/dataSet.csv' , encoding='unicode_escape')"
   ]
  },
  {
   "cell_type": "code",
   "execution_count": 3,
   "metadata": {
    "colab": {},
    "colab_type": "code",
    "id": "eRR-2eFI2m3o"
   },
   "outputs": [],
   "source": [
    "d.columns = ['id','tweet', 'label']"
   ]
  },
  {
   "cell_type": "code",
   "execution_count": 4,
   "metadata": {
    "colab": {
     "base_uri": "https://localhost:8080/",
     "height": 34
    },
    "colab_type": "code",
    "id": "uci6tULA2m3t",
    "outputId": "13cb72bf-629a-4722-9095-6ba81f46f170"
   },
   "outputs": [
    {
     "data": {
      "text/plain": [
       "array(['Positif', 'Netral', 'Negatif'], dtype=object)"
      ]
     },
     "execution_count": 4,
     "metadata": {},
     "output_type": "execute_result"
    }
   ],
   "source": [
    "d.label.unique()"
   ]
  },
  {
   "cell_type": "code",
   "execution_count": 5,
   "metadata": {
    "colab": {
     "base_uri": "https://localhost:8080/",
     "height": 68
    },
    "colab_type": "code",
    "id": "F_VsSqe25Pq-",
    "outputId": "793b45b1-5e14-4325-d4bd-2290f9861b07"
   },
   "outputs": [],
   "source": [
    "import nltk"
   ]
  },
  {
   "cell_type": "code",
   "execution_count": 6,
   "metadata": {
    "colab": {},
    "colab_type": "code",
    "id": "i4LRFlan2m3y"
   },
   "outputs": [],
   "source": [
    "from nltk import word_tokenize, WordNetLemmatizer"
   ]
  },
  {
   "cell_type": "code",
   "execution_count": 19,
   "metadata": {
    "colab": {},
    "colab_type": "code",
    "id": "ZVBo3uQVyKBE"
   },
   "outputs": [],
   "source": [
    "sinonim_tidak= {\"krng\":\"tidak\",\"kurng\":\"tidak\",\"kurang\":\"tidak\",\"suka\":\"bagus\",\"ska\":\"bagus\",\"nggak\":\"tidak\",\"ngga\":\"tidak\",\"gak\":\"tidak\",\"ga\":\"tidak\",\"g\":\"tidak\",\"ngak\":\"tidak\",\"enggak\":\"tidak\",\"engga\":\"tidak\"} "
   ]
  },
  {
   "cell_type": "code",
   "execution_count": null,
   "metadata": {},
   "outputs": [],
   "source": []
  },
  {
   "cell_type": "code",
   "execution_count": 20,
   "metadata": {
    "colab": {},
    "colab_type": "code",
    "id": "fsYZVt7JyLOK"
   },
   "outputs": [],
   "source": [
    "def slang_tidak(text):  \n",
    "    sentence_list = text.split()\n",
    "    new_sentence = []\n",
    "    for word in sentence_list:\n",
    "      for candidate_replacement in sinonim_tidak:\n",
    "        if candidate_replacement == word:\n",
    "          word = word.replace(candidate_replacement, sinonim_tidak[candidate_replacement])\n",
    "      new_sentence.append(word)\n",
    "    return \" \".join(new_sentence)"
   ]
  },
  {
   "cell_type": "code",
   "execution_count": 21,
   "metadata": {
    "colab": {},
    "colab_type": "code",
    "id": "ScI2tir3ySw8"
   },
   "outputs": [],
   "source": [
    "d['Text_slang'] = d['tweet'].apply(lambda x: slang_tidak(x))"
   ]
  },
  {
   "cell_type": "code",
   "execution_count": 22,
   "metadata": {},
   "outputs": [],
   "source": [
    "def remove_num_file(text):\n",
    "    text_nonum = ''\n",
    "    text_nonum = re.sub(r'\\d+','', text)\n",
    "    return text_nonum"
   ]
  },
  {
   "cell_type": "code",
   "execution_count": 23,
   "metadata": {},
   "outputs": [],
   "source": [
    "d['num'] = d['Text_slang'].apply(lambda x: remove_num_file(x))"
   ]
  },
  {
   "cell_type": "code",
   "execution_count": 24,
   "metadata": {
    "colab": {},
    "colab_type": "code",
    "id": "_KKcaVYzyUu9"
   },
   "outputs": [],
   "source": [
    "kata_negasi = {'terlupakan' : 'ingat','jauh' : 'dekat','disarankan' : 'x','salah' : 'benar','pernah' : 'x','jadi' : 'x','ternyata' : 'x',\n",
    "               'bisa' : 'x','boleh' : 'dilarang','begitu' : 'begini','mahal' : 'murah','terlalu' : 'x', 'karuan' : 'berantakan','rekomendasi' : 'jangan',\n",
    "               'ramah' : '','sprti' : '','siasia' : 'berguna','besar' : 'kecil','bermain' : 'x','nyaman' : 'risih','berkunjung' : 'x', 'bawa' : 'x',\n",
    "               'memadai' : '','kalah' : 'menang','nyesel' : '','jelas' : 'samar','ada' : 'x','terurus' : 'terlantar','mandi' : 'x','papa' : 'x','kenaik' : 'x',\n",
    "               'enak' : 'tidakenak','suka' : 'duka','aman' : 'bahaya','tersentuh' : 'x','mau' : '','capek' : 'kuat','nyangka' : '','sengaja' : '','cocok' : '',\n",
    "               'Kekurangannya' : 'kelebihannya','menemukan' : 'x','disangkasangka' : 'x','banyak' : 'sedikit','serame' : 'sepi','luas' : 'sempit','berani' : 'takut',\n",
    "               'kecewa' : 'puas','fit' : 'sakit','untuk' : 'x','perlu' : 'x','membawa' : 'x','macet' : 'lancar','seperti' : 'x','rugi' : 'untung','pake' : 'x',\n",
    "               'bersentuhan' : 'berjauhan','berpasir' : 'x','hari' : 'x','ke' : 'x','bosen' : 'senang','peduli' : 'acuh','bleh' : 'x','bayar' : 'gratis','dirawat' : 'dibiarkan',\n",
    "               'menyediakan' : 'x','seneng' : 'sedih','rata' : 'kasar','hepi' : 'sedih','fresh' : 'layu','bingung' : 'faham','akan' : 'x','cukup' : 'kurang',\n",
    "               'hijau' : 'x','d' : 'x','takutnya' : 'beraninya','tergelincir' : 'x','kesampaian' : 'gagal','lagi' : 'x','membayar' : 'gratis','pergi' : 'pulang','lebih' : 'x',\n",
    "               'panas' : 'dingin','terlihat' : 'kasat','reomended' : 'jangan','hanya' : 'x','biasa' : '','di' : '','bertanggungjawab' : '','musim' : '','ramai' : 'sepi',\n",
    "               'tahu' : 'x','yang' : 'x','terawat' : 'dibiarkan','menyarankan' : 'x','kepanasan' : 'kedinginan','murah' : 'mahal','tajam' : 'halus','putih' : 'x','berfungsi' : 'rusak',\n",
    "               'berubah' : 'tetap','sebanyak' : 'sedikit','bocor' : 'x','bikin' : 'x','masuk' : 'keluar','jawab' : 'x','rekomen' : 'jangan','kedinginan' : 'kepanasan','berbahaya' : 'aman',\n",
    "               'hati' : 'x','dapat' : 'susah','usah' : 'x','kelihatan' : 'kasat','musimhari' : 'x','dibawa' : 'x','kepenuhan' : 'longgar','kumuh' : 'bersih','tersedia' : 'x','tau' : 'x','atau' : 'x',\n",
    "               'kuat' : 'lemah','dirusak' : 'dirawat','terbiasa' : 'x','bertanggung' : 'x','membahayakan' : 'aman','dalam' : 'x','ingin' : 'enggan','bagus' : 'jelek','sampai' : 'x','begiu' : 'x',\n",
    "               'diperbolehkan' : 'dilarang','tertata' : 'berantakan','sedang' : 'x','prlu' : 'x','membuat' : 'x','kecewadan' : 'puas','tenang' : 'gelisah','langsung' : 'tunda','keras' : 'lunak',\n",
    "               'banyaknya' : 'sedikitnya','berisik' : 'tenang','naik' : 'turun','bakal' : 'x','karena' : 'x','terlampau' : 'x','sesuai' : 'beda','kotor' : 'bersih','berenang' : 'x',\n",
    "               'khawatir' : 'yakin','beraspal' : 'berbatu','masalah' : 'aman','dihitung' : 'x','membuang' : 'menyimpan','buka' : 'tutup','seru' : 'bosan','perlalu' : 'x','kayak' : 'x','mematok' : 'x','mendung' : 'terang',\n",
    "               'dianjurkan' : 'jangan','disediakan' : 'x','kalian' : 'x','mengecewakan' : 'memuaskan','mengurangi' : 'menambah','takut' : 'berani','kena' : 'x','kesana' : 'x','kalahnya' : 'x','lgsg' : 'x',\n",
    "               'kuatir' : 'aman','sulit' : 'gampang','setiap' : 'x','asing' : 'familiar','dimaksimalkan' : 'minimal','sebagus' : 'jelek','menakutkan' : 'menyenangkan','jual' : 'x','tinggi' : 'pendek','jernih' : 'keruh','dimiliki' : 'x',\n",
    "               'berhatihati' : 'ceroboh','juga' : 'x','harus' : 'x','berasa' : 'x','bakalan' : 'x','berlubang' : 'halus','lama' : 'sebentar','main' : 'x','kawatir' : 'aman','bersih' : 'kotor','keurus' : 'dibiarkan',\n",
    "               'memperburuk' : 'memperindah','berakal' : 'x','sebersih' : 'kotor','gitu' : 'x','liburan' : 'x','kerasa' : 'x','ngefotoin' : 'x','kebentuk' : 'x','disiapkan' : 'x','dimahalin' : 'murah',\n",
    "               'ngerampok' : 'x','terluka' : 'aman','foto' : 'x','dekat' : 'jauh','kaya' : 'x','tapi' : 'x','merasa' : 'x','recommend' : 'jangan','trll' : 'x','usa' : 'x','keliatan' : 'x','pelit' : 'dermawan',\n",
    "               'enakpas' : 'x','seberapatapi' : 'x','nyamansharing' : 'x','standarpersewaan' : 'x','terpakai' : 'terbuang','uasah' : 'x','hijaudtang' : 'x','offroad' : 'x','dizoom' : 'x',\n",
    "               'direkomendasikan' : 'jangan','rame' : 'sepi','kaget' : 'tenang','mahalmantap' : 'murah','termasuk' : 'x','terbatas' : 'luas','mengecewakanðŸ‘\\x8d' : 'puas','dibersihkan' : 'kotor','liat' : 'x',\n",
    "               'bahaya' : 'aman','asik' : 'bosan','mulus' : 'kasar','pasang' : 'surut','was' : 'x', 'jelek' : 'bagus','suka':'jelek','laku':'jelek'}"
   ]
  },
  {
   "cell_type": "code",
   "execution_count": 25,
   "metadata": {
    "colab": {},
    "colab_type": "code",
    "id": "_foqawVSyj4f"
   },
   "outputs": [],
   "source": [
    "def ganti_negasi(w):\n",
    "  # print(w)\n",
    "  w_splited = w.split(' ')\n",
    "  # print(w_splited)\n",
    "  if 'tidak' in w_splited:\n",
    "     index_negasi = w_splited.index('tidak')\n",
    "    #  print(index_negasi)\n",
    "     for i,k in enumerate(w_splited):\n",
    "       if k in kata_negasi and w_splited[i-1] == 'tidak':\n",
    "         w_splited[i] = kata_negasi[k]\n",
    "    #  print(w_splited)\n",
    "\n",
    "  return ' '.join(w_splited)"
   ]
  },
  {
   "cell_type": "code",
   "execution_count": 26,
   "metadata": {
    "colab": {},
    "colab_type": "code",
    "id": "eSSuP8pBylE6"
   },
   "outputs": [],
   "source": [
    "d['negasi'] = d['Text_slang'].apply(lambda x: ganti_negasi(x))"
   ]
  },
  {
   "cell_type": "code",
   "execution_count": 22,
   "metadata": {
    "colab": {
     "base_uri": "https://localhost:8080/",
     "height": 122
    },
    "colab_type": "code",
    "id": "_Ip3T91nGzVu",
    "outputId": "a6629ebd-e9e6-448a-c5da-d957aa04d904"
   },
   "outputs": [
    {
     "name": "stdout",
     "output_type": "stream",
     "text": [
      "Requirement already satisfied: sastrawi in c:\\users\\fak\\anaconda3\\lib\\site-packages (1.0.1)\n"
     ]
    }
   ],
   "source": [
    "!pip install sastrawi"
   ]
  },
  {
   "cell_type": "code",
   "execution_count": 28,
   "metadata": {
    "colab": {},
    "colab_type": "code",
    "id": "D7qWt2KcynfH"
   },
   "outputs": [],
   "source": [
    "from Sastrawi.Stemmer.StemmerFactory import StemmerFactory\n",
    "\n",
    "factory = StemmerFactory()\n",
    "stemmer = factory.create_stemmer()"
   ]
  },
  {
   "cell_type": "code",
   "execution_count": 29,
   "metadata": {
    "colab": {},
    "colab_type": "code",
    "id": "XvUW5j3nyuRe"
   },
   "outputs": [],
   "source": [
    "def stemming(text):  \n",
    "    text_stem = ''\n",
    "    text_stem = stemmer.stem(text)\n",
    "    return text_stem\n"
   ]
  },
  {
   "cell_type": "code",
   "execution_count": 30,
   "metadata": {
    "colab": {},
    "colab_type": "code",
    "id": "72yvsTm-yx50"
   },
   "outputs": [],
   "source": [
    "d['tokens'] = [word_tokenize(sen) for sen in d['negasi']]"
   ]
  },
  {
   "cell_type": "code",
   "execution_count": 7,
   "metadata": {},
   "outputs": [],
   "source": [
    "d['tokens'] = [word_tokenize(sen) for sen in d['tweet']]"
   ]
  },
  {
   "cell_type": "code",
   "execution_count": 8,
   "metadata": {
    "colab": {},
    "colab_type": "code",
    "id": "MhOVqU2_2m36"
   },
   "outputs": [],
   "source": [
    "from nltk.corpus import stopwords\n",
    "stoplist = ['tidak','a','ada','adalah','adanya','adapun','agak','agaknya','agar','akan','akankah','akhir',\n",
    "            'akhiri','akhirnya','aku','akulah','amat','amatlah','anda','andalah','antar','antara',\n",
    "            'antaranya','apa','apaan','apabila','apakah','apalagi','apatah','arti','artinya','asal',\n",
    "            'asalkan','atas','atau','ataukah','ataupun','awal','awalnya','b','bagai','bagaikan',\n",
    "            'bagaimana','bagaimanakah','bagaimanapun','bagainamakah','bagi','bagian','bahkan','bahwa',\n",
    "            'bahwasannya','bahwasanya','baiklah','bakal','bakalan','balik','banyak','bapak',\n",
    "            'baru','bawah','beberapa','begini','beginian','beginikah','beginilah','begitu','begitukah',\n",
    "            'begitulah','begitupun','bekerja','belakang','belakangan','belumlah','benar',\n",
    "            'benarkah','benarlah','berada','berakhir','berakhirlah','berakhirnya','berapa','berapakah',\n",
    "            'berapalah','berapapun','berarti','berawal','berbagai','berdatangan','beri','berikan',\n",
    "            'berikut','berikutnya','berjumlah','berkali-kali','berkata','berkehendak','berkeinginan',\n",
    "            'berkenaan','berlainan','berlalu','berlangsung','berlebihan','bermacam','bermacam-macam',\n",
    "            'bermaksud','bermula','bersama','bersama-sama','bersiap','bersiap-siap','bertanya',\n",
    "            'bertanya-tanya','berturut','berturut-turut','bertutur','berujar','berupa','besar',\n",
    "            'betul','betulkah','biasa','biasanya','bila','bilakah','bisa','bisakah','boleh','bolehkah',\n",
    "            'bolehlah','buat','bukan','bukankah','bukanlah','bukannya','bulan','bung','c','cara',\n",
    "            'caranya','cukup','cukupkah','cukuplah','cuma','d','dahulu','dalam','dan','dapat','dari',\n",
    "            'daripada','datang','demi','demikian','demikianlah','dengan','depan','di','dia',\n",
    "            'diakhiri','diakhirinya','dialah','diantara','diantaranya','diberi','diberikan','diberikannya',\n",
    "            'dibuat','dibuatnya','didapat','didatangkan','digunakan','diibaratkan','diibaratkannya',\n",
    "            'diingat','diingatkan','diinginkan','dijawab','dijelaskan','dijelaskannya','dikarenakan',\n",
    "            'dikatakan','dikatakannya','dikerjakan','diketahui','diketahuinya','dikira','dilakukan',\n",
    "            'dilalui','dilihat','dimaksud','dimaksudkan','dimaksudkannya','dimaksudnya','diminta',\n",
    "            'dimintai','dimisalkan','dimulai','dimulailah','dimulainya','dimungkinkan','dini','dipastikan',\n",
    "            'diperbuat','diperbuatnya','dipergunakan','diperkirakan','diperlihatkan','diperlukan',\n",
    "            'diperlukannya','dipersoalkan','dipertanyakan','dipunyai','diri','dirinya','disampaikan',\n",
    "            'disebut','disebutkan','disebutkannya','disini','disinilah','ditambahkan','ditandaskan',\n",
    "            'ditanya','ditanyai','ditanyakan','ditegaskan','ditujukan','ditunjuk','ditunjuki','ditunjukkan',\n",
    "            'ditunjukkannya','ditunjuknya','dituturkan','dituturkannya','diucapkan','diucapkannya',\n",
    "            'diungkapkan','dong','dua','dulu','e','empat','enggak','enggaknya','entah','entahlah',\n",
    "            'f','g','guna','gunakan','h','hadap','hai','hal','halo','hallo','hampir','hanya','hanyalah',\n",
    "            'hari','harus','haruslah','harusnya','helo','hello','hendak','hendaklah','hendaknya','hingga',\n",
    "            'i','ia','ialah','ibarat','ibaratkan','ibaratnya','ibu','ikut','ingat','ingat-ingat','ingin',\n",
    "            'inginkah','inginkan','ini','inikah','inilah','itu','itukah','itulah','j','jadi','jadilah',\n",
    "            'jadinya','jawab','jawaban','jawabnya','jelas','jelaskan','jelaslah','jelasnya','jika','jikalau',\n",
    "            'juga','jumlah','jumlahnya','justru','k','kadar','kala','kalau','kalaulah','kalaupun',\n",
    "            'kali','kalian','kami','kamilah','kamu',\n",
    "            'kamulah','kan','kapan','kapankah','kapanpun','karena','karenanya','kasus','kata','katakan',\n",
    "            'katakanlah','katanya','ke','keadaan','kebetulan','kecil','kedua','keduanya','keinginan',\n",
    "            'kelamaan','kelihatan','kelihatannya','kelima','keluar','kembali','kemudian','kemungkinan',\n",
    "            'kemungkinannya','kena','kenapa','kepada','kepadanya','kerja','kesampaian','keseluruhan',\n",
    "            'keseluruhannya','keterlaluan','ketika','khusus','khususnya','kini','kinilah','kira',\n",
    "            'kira-kira','kiranya','kita','kitalah','kok','l','lagi','lagian','lah','lain',\n",
    "            'lainnya','lalu','lama','lamanya','langsung','lanjut','lanjutnya','lebih','lewat',\n",
    "            'lihat','lima','luar','m','macam','maka','makanya','makin','maksud','malah','malahan',\n",
    "            'mampu','mampukah','mana','manakala','manalagi','masa','masalah','masalahnya','masih',\n",
    "            'masihkah','masing','masing-masing','masuk','mata','mau','maupun','melainkan','melakukan',\n",
    "            'melalui','melihat','melihatnya','memang','memastikan','memberi','memberikan','membuat',\n",
    "            'memerlukan','memihak','meminta','memintakan','memisalkan','memperbuat','mempergunakan',\n",
    "            'memperkirakan','memperlihatkan','mempersiapkan','mempersoalkan','mempertanyakan','mempunyai',\n",
    "            'memulai','memungkinkan','menaiki','menambahkan','menandaskan','menanti','menanti-nanti',\n",
    "            'menantikan','menanya','menanyai','menanyakan','mendapat','mendapatkan','mendatang','mendatangi',\n",
    "            'mendatangkan','menegaskan','mengakhiri','mengapa','mengatakan','mengatakannya','mengenai',\n",
    "            'mengerjakan','mengetahui','menggunakan','menghendaki','mengibaratkan','mengibaratkannya',\n",
    "            'mengingat','mengingatkan','menginginkan','mengira','mengucapkan','mengucapkannya','mengungkapkan',\n",
    "            'menjadi','menjawab','menjelaskan','menuju','menunjuk','menunjuki','menunjukkan','menunjuknya',\n",
    "            'menurut','menuturkan','menyampaikan','menyangkut','menyatakan','menyebutkan','menyeluruh',\n",
    "            'menyiapkan','merasa','mereka','merekalah','merupakan','meski','meskipun','meyakini','meyakinkan',\n",
    "            'minta','mirip','misal','misalkan','misalnya','mohon','mula','mulai','mulailah','mulanya','mungkin',\n",
    "            'mungkinkah','n','nah','naik','namun','nanti','nantinya','nya','nyaris','nyata','nyatanya',\n",
    "            'o','oleh','olehnya','orang','p','pada','padahal','padanya','pak','paling','panjang','pantas',\n",
    "            'para','pasti','pastilah','penting','pentingnya','per','percuma','perlu','perlukah','perlunya',\n",
    "            'pernah','persoalan','pertama','pertama-tama','pertanyaan','pertanyakan','pihak','pihaknya',\n",
    "            'pukul','pula','pun','punya','q','r','rasa','rasanya','rupa','rupanya','s','saat','saatnya','saja',\n",
    "            'sajalah','salam','saling','sama','sama-sama','sambil','sampai','sampai-sampai','sampaikan','sana',\n",
    "            'sangat','sangatlah','sangkut','satu','saya','sayalah','se','sebab','sebabnya','sebagai',\n",
    "            'sebagaimana','sebagainya','sebagian','sebaik','sebaik-baiknya','sebaiknya','sebaliknya',\n",
    "            'sebanyak','sebegini','sebegitu','sebelum','sebelumnya','sebenarnya','seberapa','sebesar',\n",
    "            'sebetulnya','sebisanya','sebuah','sebut','sebutlah','sebutnya','secara','secukupnya','sedang',\n",
    "            'sedangkan','sedemikian','sedikit','sedikitnya','seenaknya','segala','segalanya','segera',\n",
    "            'seharusnya','sehingga','seingat','sejak','sejenak','sejumlah','sekadar','sekadarnya',\n",
    "            'sekali','sekali-kali','sekalian','sekaligus','sekalipun','sekarang','sekaranglah','sekecil',\n",
    "            'seketika','sekiranya','sekitar','sekitarnya','sekurang-kurangnya','sekurangnya','sela','selain',\n",
    "            'selaku','selalu','selama','selama-lamanya','selamanya','selanjutnya','seluruh','seluruhnya',\n",
    "            'semacam','semakin','semampu','semampunya','semasa','semasih','semata','semata-mata','semaunya',\n",
    "            'sementara','semisal','semisalnya','sempat','semua','semuanya','semula','sendiri','sendirian',\n",
    "            'sendirinya','seolah','seolah-olah','seorang','sepanjang','sepantasnya','sepantasnyalah',\n",
    "            'seperlunya','seperti','sepertinya','sepihak','sering','seringnya','serta','serupa','sesaat',\n",
    "            'sesama','sesampai','sesegera','sesekali','seseorang','sesuatu','sesuatunya','sesudah',\n",
    "            'sesudahnya','setelah','setempat','setengah','seterusnya','setiap','setiba','setibanya',\n",
    "            'setidak-tidaknya','setidaknya','setinggi','seusai','sewaktu','siap','siapa','siapakah',\n",
    "            'siapapun','sini','sinilah','soal','soalnya','suatu','sudah','sudahkah','sudahlah','supaya',\n",
    "            't','tadi','tadinya','tahu','tak','tambah','tambahnya','tampak','tampaknya','tandas','tandasnya',\n",
    "            'tanpa','tanya','tanyakan','tanyanya','tapi','tegas','tegasnya','telah','tempat','tentang','tentu',\n",
    "            'tentulah','tentunya','tepat','terakhir','terasa','terbanyak','terdahulu','terdapat','terdiri',\n",
    "            'terhadap','terhadapnya','teringat','teringat-ingat','terjadi','terjadilah','terjadinya','terkira',\n",
    "            'terlalu','terlebih','terlihat','termasuk','ternyata','tersampaikan','tersebut','tersebutlah',\n",
    "            'tertentu','tertuju','terus','terutama','tetap','tetapi','tiap','tiba','tiba-tiba',\n",
    "            'tidakkah','tidaklah','tiga','toh','tuju','tunjuk','turut','tutur','tuturnya','u','ucap','ucapnya',\n",
    "            'ujar','ujarnya','umumnya','ungkap','ungkapnya','untuk','usah','usai','v','w','waduh','wah','wahai',\n",
    "            'waktunya','walau','walaupun','wong','x','y','ya','yaitu','yakin','yakni','yang','z']"
   ]
  },
  {
   "cell_type": "code",
   "execution_count": 3,
   "metadata": {},
   "outputs": [
    {
     "name": "stdout",
     "output_type": "stream",
     "text": [
      "798\n"
     ]
    }
   ],
   "source": [
    "print(len(stoplist))"
   ]
  },
  {
   "cell_type": "code",
   "execution_count": null,
   "metadata": {},
   "outputs": [],
   "source": [
    "from nltk.corpus import stopwords\n",
    "from Sastrawi.StopWordRemover.StopWordRemoverFactory import StopWordRemoverFactory\n",
    "\n",
    "list_stopword = set(stopwords.words('indonesian'))\n",
    "\n",
    "factory = StopWordRemoverFactory()\n",
    "stopword = factory.get_stop_words()\n",
    "# print(stopword)\n",
    "print(list_stopword)"
   ]
  },
  {
   "cell_type": "code",
   "execution_count": 9,
   "metadata": {
    "colab": {},
    "colab_type": "code",
    "id": "2RlG10lS2m4D"
   },
   "outputs": [],
   "source": [
    "def remove_stop_words(tokens):\n",
    "    return [word for word in tokens if word not in stoplist]"
   ]
  },
  {
   "cell_type": "code",
   "execution_count": 10,
   "metadata": {
    "colab": {},
    "colab_type": "code",
    "id": "oOZA8ATX2m4H"
   },
   "outputs": [
    {
     "ename": "NameError",
     "evalue": "name 'tokens' is not defined",
     "output_type": "error",
     "traceback": [
      "\u001b[1;31m---------------------------------------------------------------------------\u001b[0m",
      "\u001b[1;31mNameError\u001b[0m                                 Traceback (most recent call last)",
      "\u001b[1;32m<ipython-input-10-a0977fe6af4e>\u001b[0m in \u001b[0;36m<module>\u001b[1;34m\u001b[0m\n\u001b[1;32m----> 1\u001b[1;33m \u001b[0mfiltered_words\u001b[0m \u001b[1;33m=\u001b[0m \u001b[1;33m[\u001b[0m\u001b[0mremove_stop_words\u001b[0m\u001b[1;33m(\u001b[0m\u001b[0msen\u001b[0m\u001b[1;33m)\u001b[0m \u001b[1;32mfor\u001b[0m \u001b[0msen\u001b[0m \u001b[1;32min\u001b[0m \u001b[0mtokens\u001b[0m\u001b[1;33m]\u001b[0m\u001b[1;33m\u001b[0m\u001b[1;33m\u001b[0m\u001b[0m\n\u001b[0m",
      "\u001b[1;31mNameError\u001b[0m: name 'tokens' is not defined"
     ]
    }
   ],
   "source": [
    "filtered_words = [remove_stop_words(sen) for sen in tokens] "
   ]
  },
  {
   "cell_type": "code",
   "execution_count": 35,
   "metadata": {
    "colab": {},
    "colab_type": "code",
    "id": "Le7-NAjW2m4L"
   },
   "outputs": [],
   "source": [
    "d['result'] = [' '.join(sen) for sen in filtered_words]"
   ]
  },
  {
   "cell_type": "code",
   "execution_count": 31,
   "metadata": {},
   "outputs": [],
   "source": [
    "d['Text_Stem'] = d['result'].apply(lambda x: stemming(x))"
   ]
  },
  {
   "cell_type": "code",
   "execution_count": 409,
   "metadata": {},
   "outputs": [],
   "source": [
    "d['Text_Stem'] = d['Text_slang'].apply(lambda x: stemming(x))"
   ]
  },
  {
   "cell_type": "code",
   "execution_count": 224,
   "metadata": {
    "colab": {},
    "colab_type": "code",
    "id": "BDaODng42m4R"
   },
   "outputs": [],
   "source": [
    "d['Text_Final'] = d['result']"
   ]
  },
  {
   "cell_type": "code",
   "execution_count": 11,
   "metadata": {},
   "outputs": [],
   "source": [
    "d['Text_Final'] = d['tweet']"
   ]
  },
  {
   "cell_type": "code",
   "execution_count": 34,
   "metadata": {},
   "outputs": [],
   "source": [
    "tokens = [word_tokenize(sen) for sen in d['Text_Stem']]"
   ]
  },
  {
   "cell_type": "code",
   "execution_count": 225,
   "metadata": {
    "colab": {},
    "colab_type": "code",
    "id": "o9IKP1Rp2m4W"
   },
   "outputs": [],
   "source": [
    "d['tokens'] =tokens"
   ]
  },
  {
   "cell_type": "code",
   "execution_count": 12,
   "metadata": {
    "scrolled": true
   },
   "outputs": [
    {
     "data": {
      "text/html": [
       "<div>\n",
       "<style scoped>\n",
       "    .dataframe tbody tr th:only-of-type {\n",
       "        vertical-align: middle;\n",
       "    }\n",
       "\n",
       "    .dataframe tbody tr th {\n",
       "        vertical-align: top;\n",
       "    }\n",
       "\n",
       "    .dataframe thead th {\n",
       "        text-align: right;\n",
       "    }\n",
       "</style>\n",
       "<table border=\"1\" class=\"dataframe\">\n",
       "  <thead>\n",
       "    <tr style=\"text-align: right;\">\n",
       "      <th></th>\n",
       "      <th>id</th>\n",
       "      <th>tweet</th>\n",
       "      <th>label</th>\n",
       "      <th>tokens</th>\n",
       "      <th>Text_Final</th>\n",
       "    </tr>\n",
       "  </thead>\n",
       "  <tbody>\n",
       "    <tr>\n",
       "      <th>0</th>\n",
       "      <td>1</td>\n",
       "      <td>film sangatsangat arah detil</td>\n",
       "      <td>Positif</td>\n",
       "      <td>[film, sangatsangat, arah, detil]</td>\n",
       "      <td>film sangatsangat arah detil</td>\n",
       "    </tr>\n",
       "    <tr>\n",
       "      <th>1</th>\n",
       "      <td>1</td>\n",
       "      <td>nyanyi ardhito pranomo akting bagus adegan ber...</td>\n",
       "      <td>Positif</td>\n",
       "      <td>[nyanyi, ardhito, pranomo, akting, bagus, adeg...</td>\n",
       "      <td>nyanyi ardhito pranomo akting bagus adegan ber...</td>\n",
       "    </tr>\n",
       "    <tr>\n",
       "      <th>2</th>\n",
       "      <td>1</td>\n",
       "      <td>nonton mily mamet movie hoqduh bagus lucu bang...</td>\n",
       "      <td>Positif</td>\n",
       "      <td>[nonton, mily, mamet, movie, hoqduh, bagus, lu...</td>\n",
       "      <td>nonton mily mamet movie hoqduh bagus lucu bang...</td>\n",
       "    </tr>\n",
       "    <tr>\n",
       "      <th>3</th>\n",
       "      <td>1</td>\n",
       "      <td>nyadar film tuh maksud alat tes hamil yak</td>\n",
       "      <td>Netral</td>\n",
       "      <td>[nyadar, film, tuh, maksud, alat, tes, hamil, ...</td>\n",
       "      <td>nyadar film tuh maksud alat tes hamil yak</td>\n",
       "    </tr>\n",
       "    <tr>\n",
       "      <th>4</th>\n",
       "      <td>1</td>\n",
       "      <td>barusan liat poster film cast udah cantik gemu...</td>\n",
       "      <td>Positif</td>\n",
       "      <td>[barusan, liat, poster, film, cast, udah, cant...</td>\n",
       "      <td>barusan liat poster film cast udah cantik gemu...</td>\n",
       "    </tr>\n",
       "  </tbody>\n",
       "</table>\n",
       "</div>"
      ],
      "text/plain": [
       "   id                                              tweet    label  \\\n",
       "0   1                       film sangatsangat arah detil  Positif   \n",
       "1   1  nyanyi ardhito pranomo akting bagus adegan ber...  Positif   \n",
       "2   1  nonton mily mamet movie hoqduh bagus lucu bang...  Positif   \n",
       "3   1          nyadar film tuh maksud alat tes hamil yak   Netral   \n",
       "4   1  barusan liat poster film cast udah cantik gemu...  Positif   \n",
       "\n",
       "                                              tokens  \\\n",
       "0                  [film, sangatsangat, arah, detil]   \n",
       "1  [nyanyi, ardhito, pranomo, akting, bagus, adeg...   \n",
       "2  [nonton, mily, mamet, movie, hoqduh, bagus, lu...   \n",
       "3  [nyadar, film, tuh, maksud, alat, tes, hamil, ...   \n",
       "4  [barusan, liat, poster, film, cast, udah, cant...   \n",
       "\n",
       "                                          Text_Final  \n",
       "0                       film sangatsangat arah detil  \n",
       "1  nyanyi ardhito pranomo akting bagus adegan ber...  \n",
       "2  nonton mily mamet movie hoqduh bagus lucu bang...  \n",
       "3          nyadar film tuh maksud alat tes hamil yak  \n",
       "4  barusan liat poster film cast udah cantik gemu...  "
      ]
     },
     "execution_count": 12,
     "metadata": {},
     "output_type": "execute_result"
    }
   ],
   "source": [
    "d.head()"
   ]
  },
  {
   "cell_type": "code",
   "execution_count": 37,
   "metadata": {
    "colab": {},
    "colab_type": "code",
    "id": "xKNKs3M_2m4Z"
   },
   "outputs": [],
   "source": [
    "pos = []\n",
    "neg = []\n",
    "net = []\n",
    "for l in d.label:\n",
    "    if l == 0:\n",
    "        pos.append(0)\n",
    "        neg.append(1)\n",
    "        net.append(0)\n",
    "    if l == 1:\n",
    "        pos.append(1)\n",
    "        neg.append(0)\n",
    "        net.append(0)\n",
    "    if l == 2:\n",
    "        pos.append(0)\n",
    "        neg.append(0)\n",
    "        net.append(1)"
   ]
  },
  {
   "cell_type": "code",
   "execution_count": 13,
   "metadata": {},
   "outputs": [],
   "source": [
    "pos = []\n",
    "neg = []\n",
    "net = []\n",
    "for l in d.label:\n",
    "    if l == 'Positif':\n",
    "        pos.append(1)\n",
    "        neg.append(0)\n",
    "        net.append(0)\n",
    "    if l == 'Negatif':\n",
    "        pos.append(0)\n",
    "        neg.append(1)\n",
    "        net.append(0)\n",
    "    if l == 'Netral':\n",
    "        pos.append(0)\n",
    "        neg.append(0)\n",
    "        net.append(1)"
   ]
  },
  {
   "cell_type": "code",
   "execution_count": 14,
   "metadata": {},
   "outputs": [
    {
     "data": {
      "text/html": [
       "<div>\n",
       "<style scoped>\n",
       "    .dataframe tbody tr th:only-of-type {\n",
       "        vertical-align: middle;\n",
       "    }\n",
       "\n",
       "    .dataframe tbody tr th {\n",
       "        vertical-align: top;\n",
       "    }\n",
       "\n",
       "    .dataframe thead th {\n",
       "        text-align: right;\n",
       "    }\n",
       "</style>\n",
       "<table border=\"1\" class=\"dataframe\">\n",
       "  <thead>\n",
       "    <tr style=\"text-align: right;\">\n",
       "      <th></th>\n",
       "      <th>id</th>\n",
       "      <th>tweet</th>\n",
       "      <th>label</th>\n",
       "      <th>tokens</th>\n",
       "      <th>Text_Final</th>\n",
       "    </tr>\n",
       "  </thead>\n",
       "  <tbody>\n",
       "    <tr>\n",
       "      <th>0</th>\n",
       "      <td>1</td>\n",
       "      <td>film sangatsangat arah detil</td>\n",
       "      <td>Positif</td>\n",
       "      <td>[film, sangatsangat, arah, detil]</td>\n",
       "      <td>film sangatsangat arah detil</td>\n",
       "    </tr>\n",
       "    <tr>\n",
       "      <th>1</th>\n",
       "      <td>1</td>\n",
       "      <td>nyanyi ardhito pranomo akting bagus adegan ber...</td>\n",
       "      <td>Positif</td>\n",
       "      <td>[nyanyi, ardhito, pranomo, akting, bagus, adeg...</td>\n",
       "      <td>nyanyi ardhito pranomo akting bagus adegan ber...</td>\n",
       "    </tr>\n",
       "    <tr>\n",
       "      <th>2</th>\n",
       "      <td>1</td>\n",
       "      <td>nonton mily mamet movie hoqduh bagus lucu bang...</td>\n",
       "      <td>Positif</td>\n",
       "      <td>[nonton, mily, mamet, movie, hoqduh, bagus, lu...</td>\n",
       "      <td>nonton mily mamet movie hoqduh bagus lucu bang...</td>\n",
       "    </tr>\n",
       "    <tr>\n",
       "      <th>3</th>\n",
       "      <td>1</td>\n",
       "      <td>nyadar film tuh maksud alat tes hamil yak</td>\n",
       "      <td>Netral</td>\n",
       "      <td>[nyadar, film, tuh, maksud, alat, tes, hamil, ...</td>\n",
       "      <td>nyadar film tuh maksud alat tes hamil yak</td>\n",
       "    </tr>\n",
       "    <tr>\n",
       "      <th>4</th>\n",
       "      <td>1</td>\n",
       "      <td>barusan liat poster film cast udah cantik gemu...</td>\n",
       "      <td>Positif</td>\n",
       "      <td>[barusan, liat, poster, film, cast, udah, cant...</td>\n",
       "      <td>barusan liat poster film cast udah cantik gemu...</td>\n",
       "    </tr>\n",
       "    <tr>\n",
       "      <th>5</th>\n",
       "      <td>1</td>\n",
       "      <td>film keren banget film indonesia bagus bagus e...</td>\n",
       "      <td>Positif</td>\n",
       "      <td>[film, keren, banget, film, indonesia, bagus, ...</td>\n",
       "      <td>film keren banget film indonesia bagus bagus e...</td>\n",
       "    </tr>\n",
       "    <tr>\n",
       "      <th>6</th>\n",
       "      <td>1</td>\n",
       "      <td>film say jelek</td>\n",
       "      <td>Negatif</td>\n",
       "      <td>[film, say, jelek]</td>\n",
       "      <td>film say jelek</td>\n",
       "    </tr>\n",
       "    <tr>\n",
       "      <th>7</th>\n",
       "      <td>1</td>\n",
       "      <td>rating film</td>\n",
       "      <td>Negatif</td>\n",
       "      <td>[rating, film]</td>\n",
       "      <td>rating film</td>\n",
       "    </tr>\n",
       "    <tr>\n",
       "      <th>8</th>\n",
       "      <td>1</td>\n",
       "      <td>tdi abis rs harap bunda inget vaksin palsu bal...</td>\n",
       "      <td>Positif</td>\n",
       "      <td>[tdi, abis, rs, harap, bunda, inget, vaksin, p...</td>\n",
       "      <td>tdi abis rs harap bunda inget vaksin palsu bal...</td>\n",
       "    </tr>\n",
       "    <tr>\n",
       "      <th>9</th>\n",
       "      <td>1</td>\n",
       "      <td>petisi film tabu takut</td>\n",
       "      <td>Negatif</td>\n",
       "      <td>[petisi, film, tabu, takut]</td>\n",
       "      <td>petisi film tabu takut</td>\n",
       "    </tr>\n",
       "    <tr>\n",
       "      <th>10</th>\n",
       "      <td>1</td>\n",
       "      <td>pulang pulang bengep merah ni suara bindeng wo...</td>\n",
       "      <td>Positif</td>\n",
       "      <td>[pulang, pulang, bengep, merah, ni, suara, bin...</td>\n",
       "      <td>pulang pulang bengep merah ni suara bindeng wo...</td>\n",
       "    </tr>\n",
       "    <tr>\n",
       "      <th>11</th>\n",
       "      <td>1</td>\n",
       "      <td>film drama keluarga baik susah banget nahan na...</td>\n",
       "      <td>Positif</td>\n",
       "      <td>[film, drama, keluarga, baik, susah, banget, n...</td>\n",
       "      <td>film drama keluarga baik susah banget nahan na...</td>\n",
       "    </tr>\n",
       "    <tr>\n",
       "      <th>12</th>\n",
       "      <td>1</td>\n",
       "      <td>film kamis bioskop dp</td>\n",
       "      <td>Netral</td>\n",
       "      <td>[film, kamis, bioskop, dp]</td>\n",
       "      <td>film kamis bioskop dp</td>\n",
       "    </tr>\n",
       "    <tr>\n",
       "      <th>13</th>\n",
       "      <td>1</td>\n",
       "      <td>film ajar</td>\n",
       "      <td>Positif</td>\n",
       "      <td>[film, ajar]</td>\n",
       "      <td>film ajar</td>\n",
       "    </tr>\n",
       "    <tr>\n",
       "      <th>14</th>\n",
       "      <td>1</td>\n",
       "      <td>nilai moral mantap</td>\n",
       "      <td>Positif</td>\n",
       "      <td>[nilai, moral, mantap]</td>\n",
       "      <td>nilai moral mantap</td>\n",
       "    </tr>\n",
       "    <tr>\n",
       "      <th>15</th>\n",
       "      <td>1</td>\n",
       "      <td>film bikin sakit hati</td>\n",
       "      <td>Negatif</td>\n",
       "      <td>[film, bikin, sakit, hati]</td>\n",
       "      <td>film bikin sakit hati</td>\n",
       "    </tr>\n",
       "    <tr>\n",
       "      <th>16</th>\n",
       "      <td>1</td>\n",
       "      <td>moga caling om joko anwar tungu akting film se...</td>\n",
       "      <td>Positif</td>\n",
       "      <td>[moga, caling, om, joko, anwar, tungu, akting,...</td>\n",
       "      <td>moga caling om joko anwar tungu akting film se...</td>\n",
       "    </tr>\n",
       "    <tr>\n",
       "      <th>17</th>\n",
       "      <td>1</td>\n",
       "      <td>overal film bagus jelek tetep tarik ditontonka...</td>\n",
       "      <td>Positif</td>\n",
       "      <td>[overal, film, bagus, jelek, tetep, tarik, dit...</td>\n",
       "      <td>overal film bagus jelek tetep tarik ditontonka...</td>\n",
       "    </tr>\n",
       "    <tr>\n",
       "      <th>18</th>\n",
       "      <td>1</td>\n",
       "      <td>film kisah juang generasimilenial</td>\n",
       "      <td>Positif</td>\n",
       "      <td>[film, kisah, juang, generasimilenial]</td>\n",
       "      <td>film kisah juang generasimilenial</td>\n",
       "    </tr>\n",
       "    <tr>\n",
       "      <th>19</th>\n",
       "      <td>1</td>\n",
       "      <td>film dah keren cui jd pgn nonton cz relate ban...</td>\n",
       "      <td>Positif</td>\n",
       "      <td>[film, dah, keren, cui, jd, pgn, nonton, cz, r...</td>\n",
       "      <td>film dah keren cui jd pgn nonton cz relate ban...</td>\n",
       "    </tr>\n",
       "  </tbody>\n",
       "</table>\n",
       "</div>"
      ],
      "text/plain": [
       "    id                                              tweet    label  \\\n",
       "0    1                       film sangatsangat arah detil  Positif   \n",
       "1    1  nyanyi ardhito pranomo akting bagus adegan ber...  Positif   \n",
       "2    1  nonton mily mamet movie hoqduh bagus lucu bang...  Positif   \n",
       "3    1          nyadar film tuh maksud alat tes hamil yak   Netral   \n",
       "4    1  barusan liat poster film cast udah cantik gemu...  Positif   \n",
       "5    1  film keren banget film indonesia bagus bagus e...  Positif   \n",
       "6    1                                     film say jelek  Negatif   \n",
       "7    1                                        rating film  Negatif   \n",
       "8    1  tdi abis rs harap bunda inget vaksin palsu bal...  Positif   \n",
       "9    1                             petisi film tabu takut  Negatif   \n",
       "10   1  pulang pulang bengep merah ni suara bindeng wo...  Positif   \n",
       "11   1  film drama keluarga baik susah banget nahan na...  Positif   \n",
       "12   1                              film kamis bioskop dp   Netral   \n",
       "13   1                                          film ajar  Positif   \n",
       "14   1                                 nilai moral mantap  Positif   \n",
       "15   1                              film bikin sakit hati  Negatif   \n",
       "16   1  moga caling om joko anwar tungu akting film se...  Positif   \n",
       "17   1  overal film bagus jelek tetep tarik ditontonka...  Positif   \n",
       "18   1                  film kisah juang generasimilenial  Positif   \n",
       "19   1  film dah keren cui jd pgn nonton cz relate ban...  Positif   \n",
       "\n",
       "                                               tokens  \\\n",
       "0                   [film, sangatsangat, arah, detil]   \n",
       "1   [nyanyi, ardhito, pranomo, akting, bagus, adeg...   \n",
       "2   [nonton, mily, mamet, movie, hoqduh, bagus, lu...   \n",
       "3   [nyadar, film, tuh, maksud, alat, tes, hamil, ...   \n",
       "4   [barusan, liat, poster, film, cast, udah, cant...   \n",
       "5   [film, keren, banget, film, indonesia, bagus, ...   \n",
       "6                                  [film, say, jelek]   \n",
       "7                                      [rating, film]   \n",
       "8   [tdi, abis, rs, harap, bunda, inget, vaksin, p...   \n",
       "9                         [petisi, film, tabu, takut]   \n",
       "10  [pulang, pulang, bengep, merah, ni, suara, bin...   \n",
       "11  [film, drama, keluarga, baik, susah, banget, n...   \n",
       "12                         [film, kamis, bioskop, dp]   \n",
       "13                                       [film, ajar]   \n",
       "14                             [nilai, moral, mantap]   \n",
       "15                         [film, bikin, sakit, hati]   \n",
       "16  [moga, caling, om, joko, anwar, tungu, akting,...   \n",
       "17  [overal, film, bagus, jelek, tetep, tarik, dit...   \n",
       "18             [film, kisah, juang, generasimilenial]   \n",
       "19  [film, dah, keren, cui, jd, pgn, nonton, cz, r...   \n",
       "\n",
       "                                           Text_Final  \n",
       "0                        film sangatsangat arah detil  \n",
       "1   nyanyi ardhito pranomo akting bagus adegan ber...  \n",
       "2   nonton mily mamet movie hoqduh bagus lucu bang...  \n",
       "3           nyadar film tuh maksud alat tes hamil yak  \n",
       "4   barusan liat poster film cast udah cantik gemu...  \n",
       "5   film keren banget film indonesia bagus bagus e...  \n",
       "6                                      film say jelek  \n",
       "7                                         rating film  \n",
       "8   tdi abis rs harap bunda inget vaksin palsu bal...  \n",
       "9                              petisi film tabu takut  \n",
       "10  pulang pulang bengep merah ni suara bindeng wo...  \n",
       "11  film drama keluarga baik susah banget nahan na...  \n",
       "12                              film kamis bioskop dp  \n",
       "13                                          film ajar  \n",
       "14                                 nilai moral mantap  \n",
       "15                              film bikin sakit hati  \n",
       "16  moga caling om joko anwar tungu akting film se...  \n",
       "17  overal film bagus jelek tetep tarik ditontonka...  \n",
       "18                  film kisah juang generasimilenial  \n",
       "19  film dah keren cui jd pgn nonton cz relate ban...  "
      ]
     },
     "execution_count": 14,
     "metadata": {},
     "output_type": "execute_result"
    }
   ],
   "source": [
    "d.head(20)"
   ]
  },
  {
   "cell_type": "code",
   "execution_count": 15,
   "metadata": {
    "colab": {},
    "colab_type": "code",
    "id": "InuXDgLQ2m4i"
   },
   "outputs": [],
   "source": [
    "d['Pos']= pos\n",
    "d['Neg']= neg\n",
    "d['Net']= net"
   ]
  },
  {
   "cell_type": "code",
   "execution_count": 38,
   "metadata": {
    "colab": {
     "base_uri": "https://localhost:8080/",
     "height": 35
    },
    "colab_type": "code",
    "id": "pIleN7c5tblL",
    "outputId": "4d0be66e-b79a-40fa-b43c-93d6cb74bd65"
   },
   "outputs": [
    {
     "data": {
      "text/plain": [
       "'film anak garuda rabu bioskop dp'"
      ]
     },
     "execution_count": 38,
     "metadata": {},
     "output_type": "execute_result"
    }
   ],
   "source": [
    "d.Text_Stem[1]"
   ]
  },
  {
   "cell_type": "code",
   "execution_count": 16,
   "metadata": {
    "colab": {},
    "colab_type": "code",
    "id": "wvpdtDF52m4m"
   },
   "outputs": [],
   "source": [
    "d = d[['Text_Final', 'tokens', 'label', 'Pos','Neg','Net']]"
   ]
  },
  {
   "cell_type": "code",
   "execution_count": 543,
   "metadata": {},
   "outputs": [],
   "source": [
    "d = d[['konten', 'tokens', 'kelas', 'Pos', 'Neg']]"
   ]
  },
  {
   "cell_type": "code",
   "execution_count": 17,
   "metadata": {
    "colab": {
     "base_uri": "https://localhost:8080/",
     "height": 204
    },
    "colab_type": "code",
    "id": "oLK6brMP2m4q",
    "outputId": "9c5d540f-1767-4f2c-dc1e-2ea4d5d05920",
    "scrolled": true
   },
   "outputs": [
    {
     "data": {
      "text/plain": [
       "1671"
      ]
     },
     "execution_count": 17,
     "metadata": {},
     "output_type": "execute_result"
    }
   ],
   "source": [
    "len(d)"
   ]
  },
  {
   "cell_type": "code",
   "execution_count": 18,
   "metadata": {
    "colab": {},
    "colab_type": "code",
    "id": "foCG6hL6taEq"
   },
   "outputs": [],
   "source": [
    "def removeDoublecharWordList(word_list):\n",
    "  return [removeDoublechar(word) for word in word_list]"
   ]
  },
  {
   "cell_type": "code",
   "execution_count": 19,
   "metadata": {
    "colab": {},
    "colab_type": "code",
    "id": "jt9Uo-VLtaEy"
   },
   "outputs": [],
   "source": [
    "def removeDoublechar(word):\n",
    "  newWord = list(word)\n",
    "  charsList = enumerate(list(word))\n",
    "  for i,c in charsList:\n",
    "    if i > len(newWord) -2:\n",
    "      break\n",
    "    if newWord[i+1] == c:\n",
    "      newWord[i+1] = ''\n",
    "  return ''.join(newWord)\n"
   ]
  },
  {
   "cell_type": "code",
   "execution_count": 20,
   "metadata": {
    "colab": {},
    "colab_type": "code",
    "id": "fm_SMiZItaE2"
   },
   "outputs": [],
   "source": [
    "dataToken = d.tokens.apply(removeDoublecharWordList).reset_index()['tokens']"
   ]
  },
  {
   "cell_type": "code",
   "execution_count": 21,
   "metadata": {
    "colab": {},
    "colab_type": "code",
    "id": "lJZuAFegtaE5"
   },
   "outputs": [],
   "source": [
    "d['tokens'] = dataToken"
   ]
  },
  {
   "cell_type": "code",
   "execution_count": 22,
   "metadata": {},
   "outputs": [],
   "source": [
    "d['Text_Final'] = [' '.join(sen) for sen in dataToken]"
   ]
  },
  {
   "cell_type": "code",
   "execution_count": 23,
   "metadata": {
    "colab": {
     "base_uri": "https://localhost:8080/",
     "height": 221
    },
    "colab_type": "code",
    "id": "W-dXt7mGHaED",
    "outputId": "2ba944cf-88bf-49c3-9b77-0784c6013dcf"
   },
   "outputs": [
    {
     "data": {
      "text/html": [
       "<div>\n",
       "<style scoped>\n",
       "    .dataframe tbody tr th:only-of-type {\n",
       "        vertical-align: middle;\n",
       "    }\n",
       "\n",
       "    .dataframe tbody tr th {\n",
       "        vertical-align: top;\n",
       "    }\n",
       "\n",
       "    .dataframe thead th {\n",
       "        text-align: right;\n",
       "    }\n",
       "</style>\n",
       "<table border=\"1\" class=\"dataframe\">\n",
       "  <thead>\n",
       "    <tr style=\"text-align: right;\">\n",
       "      <th></th>\n",
       "      <th>Text_Final</th>\n",
       "      <th>tokens</th>\n",
       "      <th>label</th>\n",
       "      <th>Pos</th>\n",
       "      <th>Neg</th>\n",
       "      <th>Net</th>\n",
       "    </tr>\n",
       "  </thead>\n",
       "  <tbody>\n",
       "    <tr>\n",
       "      <th>0</th>\n",
       "      <td>film sangatsangat arah detil</td>\n",
       "      <td>[film, sangatsangat, arah, detil]</td>\n",
       "      <td>Positif</td>\n",
       "      <td>1</td>\n",
       "      <td>0</td>\n",
       "      <td>0</td>\n",
       "    </tr>\n",
       "    <tr>\n",
       "      <th>1</th>\n",
       "      <td>nyanyi ardhito pranomo akting bagus adegan ber...</td>\n",
       "      <td>[nyanyi, ardhito, pranomo, akting, bagus, adeg...</td>\n",
       "      <td>Positif</td>\n",
       "      <td>1</td>\n",
       "      <td>0</td>\n",
       "      <td>0</td>\n",
       "    </tr>\n",
       "    <tr>\n",
       "      <th>2</th>\n",
       "      <td>nonton mily mamet movie hoqduh bagus lucu bang...</td>\n",
       "      <td>[nonton, mily, mamet, movie, hoqduh, bagus, lu...</td>\n",
       "      <td>Positif</td>\n",
       "      <td>1</td>\n",
       "      <td>0</td>\n",
       "      <td>0</td>\n",
       "    </tr>\n",
       "    <tr>\n",
       "      <th>3</th>\n",
       "      <td>nyadar film tuh maksud alat tes hamil yak</td>\n",
       "      <td>[nyadar, film, tuh, maksud, alat, tes, hamil, ...</td>\n",
       "      <td>Netral</td>\n",
       "      <td>0</td>\n",
       "      <td>0</td>\n",
       "      <td>1</td>\n",
       "    </tr>\n",
       "    <tr>\n",
       "      <th>4</th>\n",
       "      <td>barusan liat poster film cast udah cantik gemu...</td>\n",
       "      <td>[barusan, liat, poster, film, cast, udah, cant...</td>\n",
       "      <td>Positif</td>\n",
       "      <td>1</td>\n",
       "      <td>0</td>\n",
       "      <td>0</td>\n",
       "    </tr>\n",
       "  </tbody>\n",
       "</table>\n",
       "</div>"
      ],
      "text/plain": [
       "                                          Text_Final  \\\n",
       "0                       film sangatsangat arah detil   \n",
       "1  nyanyi ardhito pranomo akting bagus adegan ber...   \n",
       "2  nonton mily mamet movie hoqduh bagus lucu bang...   \n",
       "3          nyadar film tuh maksud alat tes hamil yak   \n",
       "4  barusan liat poster film cast udah cantik gemu...   \n",
       "\n",
       "                                              tokens    label  Pos  Neg  Net  \n",
       "0                  [film, sangatsangat, arah, detil]  Positif    1    0    0  \n",
       "1  [nyanyi, ardhito, pranomo, akting, bagus, adeg...  Positif    1    0    0  \n",
       "2  [nonton, mily, mamet, movie, hoqduh, bagus, lu...  Positif    1    0    0  \n",
       "3  [nyadar, film, tuh, maksud, alat, tes, hamil, ...   Netral    0    0    1  \n",
       "4  [barusan, liat, poster, film, cast, udah, cant...  Positif    1    0    0  "
      ]
     },
     "execution_count": 23,
     "metadata": {},
     "output_type": "execute_result"
    }
   ],
   "source": [
    "d.head()"
   ]
  },
  {
   "cell_type": "code",
   "execution_count": 24,
   "metadata": {
    "colab": {
     "base_uri": "https://localhost:8080/",
     "height": 34
    },
    "colab_type": "code",
    "id": "JIdFLoDBtodv",
    "outputId": "0b5c96b6-626d-4308-9184-c8647dbbe224"
   },
   "outputs": [
    {
     "data": {
      "text/plain": [
       "1671"
      ]
     },
     "execution_count": 24,
     "metadata": {},
     "output_type": "execute_result"
    }
   ],
   "source": [
    "len(d)"
   ]
  },
  {
   "cell_type": "code",
   "execution_count": 92,
   "metadata": {
    "colab": {},
    "colab_type": "code",
    "id": "cEzoTIuq2m4u"
   },
   "outputs": [],
   "source": [
    "from sklearn.model_selection import train_test_split\n",
    "data_train, data_test = train_test_split(d, test_size=0.2, shuffle =True)"
   ]
  },
  {
   "cell_type": "code",
   "execution_count": 93,
   "metadata": {
    "colab": {
     "base_uri": "https://localhost:8080/",
     "height": 51
    },
    "colab_type": "code",
    "id": "-fnQyu4j2m41",
    "outputId": "ea5658e5-b35f-4daf-e111-a7e152c6d318"
   },
   "outputs": [
    {
     "name": "stdout",
     "output_type": "stream",
     "text": [
      "13440 words total, with a vocabulary size of 3126\n",
      "Max sentence length is 37\n"
     ]
    }
   ],
   "source": [
    "all_training_words = [word for tokens in data_train[\"tokens\"] for word in tokens]\n",
    "training_sentence_lengths = [len(tokens) for tokens in data_train[\"tokens\"]]\n",
    "TRAINING_VOCAB = sorted(list(set(all_training_words)))\n",
    "print(\"%s words total, with a vocabulary size of %s\" % (len(all_training_words), len(TRAINING_VOCAB)))\n",
    "print(\"Max sentence length is %s\" % max(training_sentence_lengths))"
   ]
  },
  {
   "cell_type": "code",
   "execution_count": 94,
   "metadata": {
    "colab": {
     "base_uri": "https://localhost:8080/",
     "height": 51
    },
    "colab_type": "code",
    "id": "UHBfTB_t2m45",
    "outputId": "34007462-0f2e-44ee-c2fa-681edfb69276"
   },
   "outputs": [
    {
     "name": "stdout",
     "output_type": "stream",
     "text": [
      "3513 words total, with a vocabulary size of 1483\n",
      "Max sentence length is 36\n"
     ]
    }
   ],
   "source": [
    "all_test_words = [word for tokens in data_test[\"tokens\"] for word in tokens]\n",
    "test_sentence_lengths = [len(tokens) for tokens in data_test[\"tokens\"]]\n",
    "TEST_VOCAB = sorted(list(set(all_test_words)))\n",
    "print(\"%s words total, with a vocabulary size of %s\" % (len(all_test_words), len(TEST_VOCAB)))\n",
    "print(\"Max sentence length is %s\" % max(test_sentence_lengths))"
   ]
  },
  {
   "cell_type": "code",
   "execution_count": 28,
   "metadata": {
    "colab": {},
    "colab_type": "code",
    "id": "BfZVfJQU2m49"
   },
   "outputs": [],
   "source": [
    "from gensim.models import Word2Vec\n",
    "from gensim import models\n",
    "from keras.layers import Dense, Dropout, Reshape, Flatten, concatenate, Input, Embedding\n",
    "from keras.models import Sequential\n",
    "from keras.preprocessing.text import Tokenizer\n",
    "from keras.preprocessing.sequence import pad_sequences\n",
    "from keras.models import Model"
   ]
  },
  {
   "cell_type": "code",
   "execution_count": 30,
   "metadata": {
    "colab": {
     "base_uri": "https://localhost:8080/",
     "height": 71
    },
    "colab_type": "code",
    "id": "MKajq0QG2m5A",
    "outputId": "33199aa3-c364-40f6-f8ca-21d0c437002b"
   },
   "outputs": [],
   "source": [
    "model = Word2Vec(d['tokens'] , size=300, min_count=1)\n",
    "model.wv.save_word2vec_format('word_cnn_kimv5.txt',binary=False)"
   ]
  },
  {
   "cell_type": "code",
   "execution_count": 95,
   "metadata": {
    "colab": {
     "base_uri": "https://localhost:8080/",
     "height": 71
    },
    "colab_type": "code",
    "id": "ugEpHWxN2m5E",
    "outputId": "da642f50-7f9f-48ca-e909-7d6da180f32f"
   },
   "outputs": [],
   "source": [
    "word2vec_path = 'word_cnn_kimv5.txt'\n",
    "word2vec = models.KeyedVectors.load_word2vec_format(word2vec_path, binary=True)"
   ]
  },
  {
   "cell_type": "code",
   "execution_count": 96,
   "metadata": {
    "colab": {},
    "colab_type": "code",
    "id": "5CsRrilU2m5I"
   },
   "outputs": [],
   "source": [
    "def get_average_word2vec(tokens_list, vector, generate_missing=False, k=300):\n",
    "    if len(tokens_list)<1:\n",
    "        return np.zeros(k)\n",
    "    if generate_missing:\n",
    "        vectorized = [vector[word] if word in vector else np.random.rand(k) for word in tokens_list]\n",
    "    else:\n",
    "        vectorized = [vector[word] if word in vector else np.zeros(k) for word in tokens_list]\n",
    "    length = len(vectorized)\n",
    "    summed = np.sum(vectorized, axis=0)\n",
    "    averaged = np.divide(summed, length)\n",
    "    return averaged\n",
    "\n",
    "def get_word2vec_embeddings(vectors, clean_comments, generate_missing=False):\n",
    "    embeddings = clean_comments['tokens'].apply(lambda x: get_average_word2vec(x, vectors, \n",
    "                                                                                generate_missing=generate_missing))\n",
    "    return list(embeddings)"
   ]
  },
  {
   "cell_type": "code",
   "execution_count": 97,
   "metadata": {
    "colab": {
     "base_uri": "https://localhost:8080/",
     "height": 163
    },
    "colab_type": "code",
    "id": "e5AhlphJ2m5N",
    "outputId": "42509b3a-ac13-4aac-b6f9-d117ca0dda5c"
   },
   "outputs": [],
   "source": [
    "training_embeddings = get_word2vec_embeddings(word2vec, data_train, generate_missing=True)"
   ]
  },
  {
   "cell_type": "code",
   "execution_count": 98,
   "metadata": {
    "colab": {
     "base_uri": "https://localhost:8080/",
     "height": 34
    },
    "colab_type": "code",
    "id": "hVy07PES2m5V",
    "outputId": "fcfe6ef8-f70d-448f-f4aa-11d91fef8e4a"
   },
   "outputs": [
    {
     "name": "stdout",
     "output_type": "stream",
     "text": [
      "Found 3126 unique tokens.\n"
     ]
    }
   ],
   "source": [
    "tokenizer = Tokenizer(num_words=len(TRAINING_VOCAB), lower=True, char_level=False)\n",
    "tokenizer.fit_on_texts(data_train[\"Text_Final\"].tolist())\n",
    "training_sequences = tokenizer.texts_to_sequences(data_train[\"Text_Final\"].tolist())\n",
    "\n",
    "train_word_index = tokenizer.word_index\n",
    "print('Found %s unique tokens.' % len(train_word_index))"
   ]
  },
  {
   "cell_type": "code",
   "execution_count": 99,
   "metadata": {
    "colab": {
     "base_uri": "https://localhost:8080/",
     "height": 34
    },
    "colab_type": "code",
    "id": "8-i-g1OX2m5s",
    "outputId": "637bcc6e-bd84-43f5-c6a8-6c15c4bc611f"
   },
   "outputs": [
    {
     "name": "stdout",
     "output_type": "stream",
     "text": [
      "(3127, 300)\n"
     ]
    }
   ],
   "source": [
    "train_embedding_weights = np.zeros((len(train_word_index)+1, 300))\n",
    "for word,index in train_word_index.items():\n",
    "    train_embedding_weights[index,:] = word2vec[word] if word in word2vec else np.random.rand(300)\n",
    "print(train_embedding_weights.shape)"
   ]
  },
  {
   "cell_type": "code",
   "execution_count": 101,
   "metadata": {
    "colab": {
     "base_uri": "https://localhost:8080/",
     "height": 105
    },
    "colab_type": "code",
    "id": "nS9ndS2DiYkP",
    "outputId": "7d1cc910-a6ec-4804-9245-16285c98de62"
   },
   "outputs": [
    {
     "name": "stderr",
     "output_type": "stream",
     "text": [
      "C:\\Users\\fak\\Anaconda3\\lib\\site-packages\\ipykernel_launcher.py:6: DeprecationWarning: Call to deprecated `__getitem__` (Method will be removed in 4.0.0, use self.wv.__getitem__() instead).\n",
      "  \n"
     ]
    },
    {
     "name": "stdout",
     "output_type": "stream",
     "text": [
      "Vocabulary size: 3494\n",
      "3494\n"
     ]
    }
   ],
   "source": [
    "model = Word2Vec(d['tokens'], size=300, min_count=1)\n",
    "\n",
    "embeddings_index = {}\n",
    "for i in range(len(model.wv.vocab)):\n",
    "    word = list(model.wv.vocab)[i]\n",
    "    coefs = model[word]\n",
    "    embeddings_index[word] = coefs\n",
    "\n",
    "print(\"Vocabulary size: {}\".format(len(list(model.wv.vocab))))\n",
    "print(len(embeddings_index))\n",
    "# print(model['film'][:5])"
   ]
  },
  {
   "cell_type": "code",
   "execution_count": 102,
   "metadata": {
    "colab": {
     "base_uri": "https://localhost:8080/",
     "height": 34
    },
    "colab_type": "code",
    "id": "X0hxBadph5py",
    "outputId": "151ce6d5-035c-48ba-96fc-5bd993db55c4"
   },
   "outputs": [
    {
     "name": "stdout",
     "output_type": "stream",
     "text": [
      "(3127, 300)\n"
     ]
    }
   ],
   "source": [
    "# Prepare embedding matrix from pre-trained model\n",
    "embedding_matrix = np.zeros((len(tokenizer.word_index)+1, 300))\n",
    "for word, i in tokenizer.word_index.items():\n",
    "    embedding_vector = embeddings_index.get(word)\n",
    "    if embedding_vector is not None:\n",
    "        # words not found in embedding index will be all-zeros.\n",
    "        embedding_matrix[i] = embedding_vector\n",
    "\n",
    "print (embedding_matrix.shape)"
   ]
  },
  {
   "cell_type": "code",
   "execution_count": 103,
   "metadata": {
    "colab": {
     "base_uri": "https://localhost:8080/",
     "height": 34
    },
    "colab_type": "code",
    "id": "a0yGGZ3xmUbs",
    "outputId": "007d3cd9-b5b9-449c-a357-89fef9f5d582"
   },
   "outputs": [
    {
     "name": "stdout",
     "output_type": "stream",
     "text": [
      "37\n"
     ]
    }
   ],
   "source": [
    "maxlen = max(len(x) for x in training_sequences)\n",
    "print (maxlen)\n",
    "EMBEDDING_DIM = 300\n",
    "MAX_NB_WORDS = 20000"
   ]
  },
  {
   "cell_type": "code",
   "execution_count": 104,
   "metadata": {
    "colab": {},
    "colab_type": "code",
    "id": "i4BWon_umTmj"
   },
   "outputs": [],
   "source": [
    "train_cnn_data = sequence.pad_sequences(training_sequences, maxlen=maxlen)"
   ]
  },
  {
   "cell_type": "code",
   "execution_count": 105,
   "metadata": {
    "colab": {},
    "colab_type": "code",
    "id": "U4Lp-ghV2m5w"
   },
   "outputs": [],
   "source": [
    "test_sequences = tokenizer.texts_to_sequences(data_test[\"Text_Final\"].tolist())\n",
    "test_cnn_data = sequence.pad_sequences(test_sequences, maxlen=maxlen)"
   ]
  },
  {
   "cell_type": "code",
   "execution_count": 106,
   "metadata": {
    "colab": {},
    "colab_type": "code",
    "id": "MVJXi0sG2m50"
   },
   "outputs": [],
   "source": [
    "label_names = ['Pos', 'Neg','Net']"
   ]
  },
  {
   "cell_type": "code",
   "execution_count": 107,
   "metadata": {
    "colab": {},
    "colab_type": "code",
    "id": "rriEqm9A2m5-"
   },
   "outputs": [],
   "source": [
    "y_train = data_train[label_names].values"
   ]
  },
  {
   "cell_type": "code",
   "execution_count": 108,
   "metadata": {
    "colab": {},
    "colab_type": "code",
    "id": "2aZfgqEv2m6B"
   },
   "outputs": [],
   "source": [
    "x_train = train_cnn_data\n",
    "y_tr = y_train"
   ]
  },
  {
   "cell_type": "code",
   "execution_count": 109,
   "metadata": {
    "colab": {
     "base_uri": "https://localhost:8080/",
     "height": 136
    },
    "colab_type": "code",
    "id": "KFTaYVOM2m6E",
    "outputId": "3bf0cf3e-a3de-4475-dd66-83c78d1cd67b"
   },
   "outputs": [
    {
     "name": "stdout",
     "output_type": "stream",
     "text": [
      "[[1 0 0]\n",
      " [1 0 0]\n",
      " [1 0 0]\n",
      " ...\n",
      " [1 0 0]\n",
      " [0 1 0]\n",
      " [1 0 0]]\n"
     ]
    }
   ],
   "source": [
    "print (y_tr)"
   ]
  },
  {
   "cell_type": "code",
   "execution_count": 110,
   "metadata": {
    "colab": {},
    "colab_type": "code",
    "id": "gwdqeRHe2m6I"
   },
   "outputs": [],
   "source": [
    "from keras.callbacks import EarlyStopping"
   ]
  },
  {
   "cell_type": "code",
   "execution_count": 111,
   "metadata": {
    "colab": {},
    "colab_type": "code",
    "id": "wbsHo9D12m6L"
   },
   "outputs": [],
   "source": [
    "es_callback =EarlyStopping(monitor='val_loss', patience=5, verbose=1)"
   ]
  },
  {
   "cell_type": "code",
   "execution_count": 127,
   "metadata": {
    "colab": {
     "base_uri": "https://localhost:8080/",
     "height": 1000
    },
    "colab_type": "code",
    "id": "X3ssHjQ52m6O",
    "outputId": "1cc541c0-17bd-4cc5-f3b2-865bf2de5023",
    "scrolled": false
   },
   "outputs": [
    {
     "name": "stdout",
     "output_type": "stream",
     "text": [
      "Model: \"sequential_3\"\n",
      "_________________________________________________________________\n",
      "Layer (type)                 Output Shape              Param #   \n",
      "=================================================================\n",
      "embedding_12 (Embedding)     (None, 44, 300)           991800    \n",
      "_________________________________________________________________\n",
      "conv1d_27 (Conv1D)           (None, 44, 512)           461312    \n",
      "_________________________________________________________________\n",
      "max_pooling1d_27 (MaxPooling (None, 22, 512)           0         \n",
      "_________________________________________________________________\n",
      "flatten_10 (Flatten)         (None, 11264)             0         \n",
      "_________________________________________________________________\n",
      "dense_19 (Dense)             (None, 256)               2883840   \n",
      "_________________________________________________________________\n",
      "dropout_10 (Dropout)         (None, 256)               0         \n",
      "_________________________________________________________________\n",
      "dense_20 (Dense)             (None, 3)                 771       \n",
      "=================================================================\n",
      "Total params: 4,337,723\n",
      "Trainable params: 3,345,923\n",
      "Non-trainable params: 991,800\n",
      "_________________________________________________________________\n",
      "Train on 988 samples, validate on 248 samples\n",
      "Epoch 1/100\n",
      "988/988 [==============================] - 13s 13ms/step - loss: 0.5997 - accuracy: 0.6808 - val_loss: 0.6098 - val_accuracy: 0.6734\n",
      "Epoch 2/100\n",
      "988/988 [==============================] - 13s 13ms/step - loss: 0.5759 - accuracy: 0.7038 - val_loss: 0.5862 - val_accuracy: 0.6922\n",
      "Epoch 3/100\n",
      "988/988 [==============================] - 13s 13ms/step - loss: 0.5640 - accuracy: 0.7048 - val_loss: 0.5705 - val_accuracy: 0.7030\n",
      "Epoch 4/100\n",
      "988/988 [==============================] - 13s 13ms/step - loss: 0.5495 - accuracy: 0.7126 - val_loss: 0.5744 - val_accuracy: 0.6895\n",
      "Epoch 5/100\n",
      "988/988 [==============================] - 13s 13ms/step - loss: 0.5294 - accuracy: 0.7244 - val_loss: 0.5871 - val_accuracy: 0.6989\n",
      "Epoch 6/100\n",
      "988/988 [==============================] - 13s 13ms/step - loss: 0.5273 - accuracy: 0.7321 - val_loss: 0.5776 - val_accuracy: 0.6989\n",
      "Epoch 7/100\n",
      "988/988 [==============================] - 13s 13ms/step - loss: 0.5178 - accuracy: 0.7382 - val_loss: 0.5939 - val_accuracy: 0.6868\n",
      "Epoch 8/100\n",
      "988/988 [==============================] - 15s 15ms/step - loss: 0.5073 - accuracy: 0.7439 - val_loss: 0.6119 - val_accuracy: 0.6935\n",
      "Epoch 9/100\n",
      "988/988 [==============================] - 15s 15ms/step - loss: 0.4912 - accuracy: 0.7507 - val_loss: 0.6046 - val_accuracy: 0.7043\n",
      "Epoch 10/100\n",
      "988/988 [==============================] - 11s 11ms/step - loss: 0.4816 - accuracy: 0.7571 - val_loss: 0.6008 - val_accuracy: 0.7043\n",
      "Epoch 11/100\n",
      "988/988 [==============================] - 10s 10ms/step - loss: 0.4825 - accuracy: 0.7493 - val_loss: 0.6043 - val_accuracy: 0.7083\n",
      "Epoch 12/100\n",
      "988/988 [==============================] - 12s 12ms/step - loss: 0.4659 - accuracy: 0.7635 - val_loss: 0.6286 - val_accuracy: 0.7245\n",
      "Epoch 13/100\n",
      "988/988 [==============================] - 11s 11ms/step - loss: 0.4532 - accuracy: 0.7773 - val_loss: 0.6197 - val_accuracy: 0.7003\n",
      "Epoch 00013: early stopping\n"
     ]
    }
   ],
   "source": [
    "# Shallow CNN\n",
    "from keras import initializers\n",
    "model = Sequential()\n",
    "model.add(Embedding(len(tokenizer.word_index) + 1, EMBEDDING_DIM,  weights=[embedding_matrix], input_length=maxlen, trainable=False))\n",
    "model.add(Conv1D(512, 3, activation='relu', padding='same',bias_initializer = initializers.RandomUniform(minval=-0.05, maxval=0.05, seed=None)))\n",
    "model.add(MaxPooling1D(pool_size = 2))\n",
    "model.add(Flatten())\n",
    "model.add(Dense(256, activation='relu'))\n",
    "model.add(Dropout(0.3))\n",
    "model.add(Dense(3, activation='softmax'))\n",
    "model.compile(optimizer='adam',\n",
    "              loss='binary_crossentropy',\n",
    "              metrics=['accuracy'])\n",
    "model.summary()\n",
    "\n",
    "# Fit model\n",
    "history = model.fit(x_train, y_tr,\n",
    "                    epochs=100,\n",
    "                    verbose=True,\n",
    "                    validation_split=(0.2),\n",
    "                    batch_size=8,\n",
    "                    shuffle=True,\n",
    "                    callbacks=[es_callback])"
   ]
  },
  {
   "cell_type": "code",
   "execution_count": null,
   "metadata": {
    "scrolled": true
   },
   "outputs": [],
   "source": [
    "# Deep CNN\n",
    "from keras.layers import Embedding, Conv1D, GlobalMaxPooling1D, Dense, Dropout, Flatten, MaxPooling1D,Input, Concatenate\n",
    "model = Sequential()\n",
    "model.add(Embedding(len(tokenizer.word_index) + 1, EMBEDDING_DIM,  weights=[embedding_matrix], input_length=maxlen, trainable=True))\n",
    "model.add(Conv1D(128, 7, activation='relu',padding='valid'))\n",
    "model.add(MaxPooling1D(pool_size = 2))\n",
    "model.add(Conv1D(256, 5, activation='relu',padding='valid'))\n",
    "model.add(MaxPooling1D(pool_size = 2))\n",
    "model.add(Conv1D(512, 3, activation='relu',padding='valid'))\n",
    "model.add(MaxPooling1D(pool_size = 2))\n",
    "model.add(Flatten())\n",
    "model.add(Dense(128, activation='relu'))\n",
    "model.add(Dropout(0.5))\n",
    "model.add(Dense(3, activation='softmax'))\n",
    "model.compile(optimizer='adam',\n",
    "              loss='binary_crossentropy',\n",
    "              metrics=['accuracy'])\n",
    "model.summary()\n",
    "history = model.fit(x_train, y_tr,\n",
    "                    epochs=100,\n",
    "                    verbose=True,\n",
    "                    validation_split=(0.2),\n",
    "                    batch_size=10,\n",
    "                    shuffle=True,\n",
    "                    callbacks=[es_callback])"
   ]
  },
  {
   "cell_type": "code",
   "execution_count": 112,
   "metadata": {},
   "outputs": [
    {
     "name": "stdout",
     "output_type": "stream",
     "text": [
      "Model: \"model_3\"\n",
      "__________________________________________________________________________________________________\n",
      "Layer (type)                    Output Shape         Param #     Connected to                     \n",
      "==================================================================================================\n",
      "input_3 (InputLayer)            (None, 37)           0                                            \n",
      "__________________________________________________________________________________________________\n",
      "embedding_3 (Embedding)         (None, 37, 300)      938100      input_3[0][0]                    \n",
      "__________________________________________________________________________________________________\n",
      "conv1d_7 (Conv1D)               (None, 37, 256)      230656      embedding_3[0][0]                \n",
      "__________________________________________________________________________________________________\n",
      "conv1d_8 (Conv1D)               (None, 37, 256)      307456      embedding_3[0][0]                \n",
      "__________________________________________________________________________________________________\n",
      "conv1d_9 (Conv1D)               (None, 37, 256)      384256      embedding_3[0][0]                \n",
      "__________________________________________________________________________________________________\n",
      "max_pooling1d_7 (MaxPooling1D)  (None, 18, 256)      0           conv1d_7[0][0]                   \n",
      "__________________________________________________________________________________________________\n",
      "max_pooling1d_8 (MaxPooling1D)  (None, 18, 256)      0           conv1d_8[0][0]                   \n",
      "__________________________________________________________________________________________________\n",
      "max_pooling1d_9 (MaxPooling1D)  (None, 18, 256)      0           conv1d_9[0][0]                   \n",
      "__________________________________________________________________________________________________\n",
      "concatenate_3 (Concatenate)     (None, 18, 768)      0           max_pooling1d_7[0][0]            \n",
      "                                                                 max_pooling1d_8[0][0]            \n",
      "                                                                 max_pooling1d_9[0][0]            \n",
      "__________________________________________________________________________________________________\n",
      "flatten_3 (Flatten)             (None, 13824)        0           concatenate_3[0][0]              \n",
      "__________________________________________________________________________________________________\n",
      "dense_5 (Dense)                 (None, 128)          1769600     flatten_3[0][0]                  \n",
      "__________________________________________________________________________________________________\n",
      "dropout_3 (Dropout)             (None, 128)          0           dense_5[0][0]                    \n",
      "__________________________________________________________________________________________________\n",
      "dense_6 (Dense)                 (None, 3)            387         dropout_3[0][0]                  \n",
      "==================================================================================================\n",
      "Total params: 3,630,455\n",
      "Trainable params: 3,630,455\n",
      "Non-trainable params: 0\n",
      "__________________________________________________________________________________________________\n"
     ]
    },
    {
     "name": "stderr",
     "output_type": "stream",
     "text": [
      "C:\\Users\\fak\\Anaconda3\\lib\\site-packages\\tensorflow_core\\python\\framework\\indexed_slices.py:424: UserWarning: Converting sparse IndexedSlices to a dense Tensor of unknown shape. This may consume a large amount of memory.\n",
      "  \"Converting sparse IndexedSlices to a dense Tensor of unknown shape. \"\n"
     ]
    },
    {
     "name": "stdout",
     "output_type": "stream",
     "text": [
      "Train on 1068 samples, validate on 268 samples\n",
      "Epoch 1/30\n",
      "1068/1068 [==============================] - 33s 31ms/step - loss: 0.5765 - accuracy: 0.7051 - val_loss: 0.4841 - val_accuracy: 0.7749\n",
      "Epoch 2/30\n",
      "1068/1068 [==============================] - 32s 30ms/step - loss: 0.3311 - accuracy: 0.8655 - val_loss: 0.3557 - val_accuracy: 0.8433\n",
      "Epoch 3/30\n",
      "1068/1068 [==============================] - 31s 29ms/step - loss: 0.1301 - accuracy: 0.9560 - val_loss: 0.4976 - val_accuracy: 0.8383\n",
      "Epoch 4/30\n",
      "1068/1068 [==============================] - 32s 30ms/step - loss: 0.0496 - accuracy: 0.9819 - val_loss: 0.6085 - val_accuracy: 0.8545\n",
      "Epoch 5/30\n",
      "1068/1068 [==============================] - 35s 33ms/step - loss: 0.0329 - accuracy: 0.9881 - val_loss: 0.6993 - val_accuracy: 0.8420\n",
      "Epoch 6/30\n",
      "1068/1068 [==============================] - 34s 32ms/step - loss: 0.0287 - accuracy: 0.9928 - val_loss: 0.7429 - val_accuracy: 0.8296\n",
      "Epoch 7/30\n",
      "1068/1068 [==============================] - 33s 31ms/step - loss: 0.0296 - accuracy: 0.9909 - val_loss: 0.9012 - val_accuracy: 0.8632\n",
      "Epoch 00007: early stopping\n"
     ]
    }
   ],
   "source": [
    "# Kim Yoon CNN\n",
    "from keras.models import Model\n",
    "from keras.layers import Concatenate\n",
    "sequence_input = Input(shape=(maxlen,), dtype='int32')\n",
    "\n",
    "embedding_layer = Embedding(len(tokenizer.word_index) + 1, EMBEDDING_DIM,  weights=[embedding_matrix], input_length=maxlen, trainable=True)\n",
    "\n",
    "embedded_sequences = embedding_layer(sequence_input)\n",
    "\n",
    "convs = []\n",
    "filter_sizes = [3,4,5]\n",
    "\n",
    "for fsz in filter_sizes:\n",
    "    x = Conv1D(256, fsz, activation='relu',padding='same')(embedded_sequences)\n",
    "    x = MaxPooling1D()(x)\n",
    "    convs.append(x)\n",
    "    \n",
    "x = Concatenate(axis=-1)(convs)\n",
    "x = Flatten()(x)\n",
    "x = Dense(128, activation='relu')(x)\n",
    "x = Dropout(0.3)(x)\n",
    "output = Dense(3, activation='softmax')(x)\n",
    "\n",
    "model = Model(sequence_input, output)\n",
    "model.compile(loss='binary_crossentropy',\n",
    "              optimizer='adam',\n",
    "              metrics=['accuracy'])\n",
    "\n",
    "model.summary()\n",
    "history = model.fit(x_train, y_tr,\n",
    "                    epochs=30,\n",
    "                    verbose=True,\n",
    "                    validation_split=(0.2),\n",
    "                    batch_size=4,shuffle = True,\n",
    "                    callbacks=[es_callback])"
   ]
  },
  {
   "cell_type": "code",
   "execution_count": null,
   "metadata": {
    "colab": {
     "base_uri": "https://localhost:8080/",
     "height": 632
    },
    "colab_type": "code",
    "id": "_hQHZ6rp_7WV",
    "outputId": "a944cc33-ffa2-480b-e795-1eb0dc941cad"
   },
   "outputs": [],
   "source": [
    "# CNN with max pooling imeplementation \n",
    "embedding_dims = 100\n",
    "filters = 128\n",
    "kernel_size = 5\n",
    "hidden_dims = 128\n",
    "print('Build model...')\n",
    "model = Sequential()\n",
    "# we start off with an efficient embedding layer which maps\n",
    "# our vocab indices into embedding_dims dimensions\n",
    "model.add(Embedding(len(train_word_index)+1, EMBEDDING_DIM,\n",
    "                    weights=[embedding_matrix],\n",
    "                    input_length=maxlen,\n",
    "                    trainable=True))\n",
    "model.add(Dropout(0.5))\n",
    "\n",
    "# we add a Convolution1D, which will learn filters\n",
    "# word group filters of size filter_length:\n",
    "model.add(Conv1D(filters,\n",
    "                 kernel_size,\n",
    "                 padding='same',\n",
    "                 activation='relu',\n",
    "                 strides=1))\n",
    "# we use max pooling:\n",
    "model.add(GlobalMaxPooling1D())\n",
    "\n",
    "# We add a vanilla hidden layer:\n",
    "model.add(Dense(hidden_dims))\n",
    "model.add(Dropout(0.5))\n",
    "model.add(Activation('relu'))\n",
    "\n",
    "# We project onto a single unit output layer, and squash it with a sigmoid:\n",
    "model.add(Dense(3))\n",
    "model.add(Activation('softmax'))\n",
    "\n",
    "model.compile(loss='binary_crossentropy',\n",
    "              optimizer='adam',\n",
    "              metrics=['accuracy'])\n",
    "model.summary()\n",
    "\n",
    "history = model.fit(x_train, y_tr,\n",
    "                    batch_size=32,\n",
    "                    epochs=100,\n",
    "                    verbose=True,\n",
    "                    validation_split=(0.3),\n",
    "                    shuffle=True,\n",
    "                    callbacks=[es_callback])"
   ]
  },
  {
   "cell_type": "code",
   "execution_count": null,
   "metadata": {},
   "outputs": [],
   "source": []
  },
  {
   "cell_type": "code",
   "execution_count": 113,
   "metadata": {
    "colab": {
     "base_uri": "https://localhost:8080/",
     "height": 34
    },
    "colab_type": "code",
    "id": "u8ZbWDWC2m6x",
    "outputId": "084d9ad5-67d6-41cc-c2b2-355c98455d6a"
   },
   "outputs": [
    {
     "name": "stdout",
     "output_type": "stream",
     "text": [
      "335/335 [==============================] - 2s 5ms/step\n"
     ]
    }
   ],
   "source": [
    "predictions = model.predict(test_cnn_data, batch_size=1, verbose=1)"
   ]
  },
  {
   "cell_type": "code",
   "execution_count": 114,
   "metadata": {
    "colab": {
     "base_uri": "https://localhost:8080/",
     "height": 1000
    },
    "colab_type": "code",
    "id": "630NyASS2m65",
    "outputId": "d7fe6150-5cb6-43a6-9b33-21541e88cd24"
   },
   "outputs": [
    {
     "name": "stdout",
     "output_type": "stream",
     "text": [
      "[[6.1659773e-07 9.9999940e-01 6.8936759e-11]\n",
      " [4.9403645e-03 9.9456209e-01 4.9765670e-04]\n",
      " [9.8249531e-01 1.6293084e-02 1.2116784e-03]\n",
      " ...\n",
      " [9.9998796e-01 6.2173075e-07 1.1492717e-05]\n",
      " [5.4457530e-02 3.3732061e-03 9.4216931e-01]\n",
      " [9.9991298e-01 2.7263184e-06 8.4322928e-05]]\n"
     ]
    }
   ],
   "source": [
    "print(predictions)"
   ]
  },
  {
   "cell_type": "code",
   "execution_count": 115,
   "metadata": {
    "colab": {},
    "colab_type": "code",
    "id": "SuI2SmBEC6NR"
   },
   "outputs": [],
   "source": [
    "tweet = pd.DataFrame(data_test.Text_Final)\n",
    "lab = pd.DataFrame(data_test.label)"
   ]
  },
  {
   "cell_type": "code",
   "execution_count": 116,
   "metadata": {
    "colab": {
     "base_uri": "https://localhost:8080/",
     "height": 1000
    },
    "colab_type": "code",
    "id": "I6WMoGcZ2m6-",
    "outputId": "cf286004-72c1-42ea-ea02-e624c4f98dd7"
   },
   "outputs": [
    {
     "name": "stdout",
     "output_type": "stream",
     "text": [
      "[['Negatif']\n",
      " ['Negatif']\n",
      " ['Positif']\n",
      " ['Positif']\n",
      " ['Positif']\n",
      " ['Positif']\n",
      " ['Positif']\n",
      " ['Netral']\n",
      " ['Positif']\n",
      " ['Netral']\n",
      " ['Positif']\n",
      " ['Negatif']\n",
      " ['Negatif']\n",
      " ['Netral']\n",
      " ['Negatif']\n",
      " ['Netral']\n",
      " ['Netral']\n",
      " ['Negatif']\n",
      " ['Positif']\n",
      " ['Negatif']\n",
      " ['Negatif']\n",
      " ['Netral']\n",
      " ['Netral']\n",
      " ['Netral']\n",
      " ['Negatif']\n",
      " ['Positif']\n",
      " ['Netral']\n",
      " ['Netral']\n",
      " ['Positif']\n",
      " ['Negatif']\n",
      " ['Positif']\n",
      " ['Positif']\n",
      " ['Positif']\n",
      " ['Positif']\n",
      " ['Positif']\n",
      " ['Negatif']\n",
      " ['Netral']\n",
      " ['Positif']\n",
      " ['Positif']\n",
      " ['Netral']\n",
      " ['Netral']\n",
      " ['Netral']\n",
      " ['Negatif']\n",
      " ['Positif']\n",
      " ['Positif']\n",
      " ['Positif']\n",
      " ['Netral']\n",
      " ['Positif']\n",
      " ['Netral']\n",
      " ['Negatif']\n",
      " ['Negatif']\n",
      " ['Positif']\n",
      " ['Netral']\n",
      " ['Positif']\n",
      " ['Positif']\n",
      " ['Positif']\n",
      " ['Netral']\n",
      " ['Positif']\n",
      " ['Positif']\n",
      " ['Negatif']\n",
      " ['Negatif']\n",
      " ['Netral']\n",
      " ['Positif']\n",
      " ['Negatif']\n",
      " ['Netral']\n",
      " ['Positif']\n",
      " ['Netral']\n",
      " ['Netral']\n",
      " ['Negatif']\n",
      " ['Netral']\n",
      " ['Negatif']\n",
      " ['Positif']\n",
      " ['Netral']\n",
      " ['Positif']\n",
      " ['Negatif']\n",
      " ['Positif']\n",
      " ['Netral']\n",
      " ['Netral']\n",
      " ['Netral']\n",
      " ['Positif']\n",
      " ['Positif']\n",
      " ['Netral']\n",
      " ['Negatif']\n",
      " ['Netral']\n",
      " ['Netral']\n",
      " ['Netral']\n",
      " ['Positif']\n",
      " ['Netral']\n",
      " ['Negatif']\n",
      " ['Netral']\n",
      " ['Negatif']\n",
      " ['Netral']\n",
      " ['Positif']\n",
      " ['Netral']\n",
      " ['Positif']\n",
      " ['Netral']\n",
      " ['Positif']\n",
      " ['Negatif']\n",
      " ['Positif']\n",
      " ['Positif']\n",
      " ['Positif']\n",
      " ['Positif']\n",
      " ['Positif']\n",
      " ['Netral']\n",
      " ['Netral']\n",
      " ['Positif']\n",
      " ['Positif']\n",
      " ['Netral']\n",
      " ['Positif']\n",
      " ['Positif']\n",
      " ['Positif']\n",
      " ['Netral']\n",
      " ['Positif']\n",
      " ['Positif']\n",
      " ['Positif']\n",
      " ['Positif']\n",
      " ['Negatif']\n",
      " ['Netral']\n",
      " ['Netral']\n",
      " ['Netral']\n",
      " ['Positif']\n",
      " ['Positif']\n",
      " ['Netral']\n",
      " ['Positif']\n",
      " ['Netral']\n",
      " ['Netral']\n",
      " ['Netral']\n",
      " ['Netral']\n",
      " ['Positif']\n",
      " ['Netral']\n",
      " ['Negatif']\n",
      " ['Negatif']\n",
      " ['Netral']\n",
      " ['Positif']\n",
      " ['Positif']\n",
      " ['Netral']\n",
      " ['Negatif']\n",
      " ['Positif']\n",
      " ['Positif']\n",
      " ['Negatif']\n",
      " ['Netral']\n",
      " ['Positif']\n",
      " ['Negatif']\n",
      " ['Netral']\n",
      " ['Netral']\n",
      " ['Positif']\n",
      " ['Negatif']\n",
      " ['Netral']\n",
      " ['Negatif']\n",
      " ['Positif']\n",
      " ['Positif']\n",
      " ['Netral']\n",
      " ['Netral']\n",
      " ['Negatif']\n",
      " ['Positif']\n",
      " ['Positif']\n",
      " ['Netral']\n",
      " ['Netral']\n",
      " ['Positif']\n",
      " ['Netral']\n",
      " ['Netral']\n",
      " ['Netral']\n",
      " ['Positif']\n",
      " ['Negatif']\n",
      " ['Netral']\n",
      " ['Positif']\n",
      " ['Netral']\n",
      " ['Positif']\n",
      " ['Netral']\n",
      " ['Netral']\n",
      " ['Positif']\n",
      " ['Netral']\n",
      " ['Positif']\n",
      " ['Positif']\n",
      " ['Positif']\n",
      " ['Netral']\n",
      " ['Positif']\n",
      " ['Positif']\n",
      " ['Positif']\n",
      " ['Negatif']\n",
      " ['Negatif']\n",
      " ['Negatif']\n",
      " ['Positif']\n",
      " ['Netral']\n",
      " ['Positif']\n",
      " ['Positif']\n",
      " ['Negatif']\n",
      " ['Netral']\n",
      " ['Positif']\n",
      " ['Netral']\n",
      " ['Netral']\n",
      " ['Netral']\n",
      " ['Positif']\n",
      " ['Positif']\n",
      " ['Positif']\n",
      " ['Netral']\n",
      " ['Positif']\n",
      " ['Netral']\n",
      " ['Positif']\n",
      " ['Negatif']\n",
      " ['Positif']\n",
      " ['Positif']\n",
      " ['Negatif']\n",
      " ['Positif']\n",
      " ['Positif']\n",
      " ['Positif']\n",
      " ['Netral']\n",
      " ['Positif']\n",
      " ['Positif']\n",
      " ['Netral']\n",
      " ['Negatif']\n",
      " ['Positif']\n",
      " ['Netral']\n",
      " ['Negatif']\n",
      " ['Netral']\n",
      " ['Netral']\n",
      " ['Positif']\n",
      " ['Positif']\n",
      " ['Negatif']\n",
      " ['Positif']\n",
      " ['Positif']\n",
      " ['Positif']\n",
      " ['Positif']\n",
      " ['Netral']\n",
      " ['Positif']\n",
      " ['Netral']\n",
      " ['Positif']\n",
      " ['Negatif']\n",
      " ['Negatif']\n",
      " ['Positif']\n",
      " ['Netral']\n",
      " ['Positif']\n",
      " ['Netral']\n",
      " ['Positif']\n",
      " ['Negatif']\n",
      " ['Netral']\n",
      " ['Netral']\n",
      " ['Negatif']\n",
      " ['Positif']\n",
      " ['Netral']\n",
      " ['Positif']\n",
      " ['Netral']\n",
      " ['Positif']\n",
      " ['Positif']\n",
      " ['Negatif']\n",
      " ['Negatif']\n",
      " ['Negatif']\n",
      " ['Positif']\n",
      " ['Negatif']\n",
      " ['Positif']\n",
      " ['Positif']\n",
      " ['Positif']\n",
      " ['Positif']\n",
      " ['Netral']\n",
      " ['Negatif']\n",
      " ['Positif']\n",
      " ['Negatif']\n",
      " ['Positif']\n",
      " ['Netral']\n",
      " ['Netral']\n",
      " ['Netral']\n",
      " ['Positif']\n",
      " ['Netral']\n",
      " ['Netral']\n",
      " ['Negatif']\n",
      " ['Positif']\n",
      " ['Positif']\n",
      " ['Positif']\n",
      " ['Negatif']\n",
      " ['Positif']\n",
      " ['Positif']\n",
      " ['Positif']\n",
      " ['Positif']\n",
      " ['Positif']\n",
      " ['Positif']\n",
      " ['Positif']\n",
      " ['Netral']\n",
      " ['Positif']\n",
      " ['Negatif']\n",
      " ['Negatif']\n",
      " ['Negatif']\n",
      " ['Positif']\n",
      " ['Positif']\n",
      " ['Positif']\n",
      " ['Netral']\n",
      " ['Negatif']\n",
      " ['Netral']\n",
      " ['Negatif']\n",
      " ['Positif']\n",
      " ['Positif']\n",
      " ['Netral']\n",
      " ['Positif']\n",
      " ['Netral']\n",
      " ['Positif']\n",
      " ['Positif']\n",
      " ['Positif']\n",
      " ['Netral']\n",
      " ['Positif']\n",
      " ['Positif']\n",
      " ['Negatif']\n",
      " ['Netral']\n",
      " ['Positif']\n",
      " ['Negatif']\n",
      " ['Netral']\n",
      " ['Negatif']\n",
      " ['Negatif']\n",
      " ['Positif']\n",
      " ['Netral']\n",
      " ['Negatif']\n",
      " ['Positif']\n",
      " ['Netral']\n",
      " ['Positif']\n",
      " ['Positif']\n",
      " ['Positif']\n",
      " ['Netral']\n",
      " ['Positif']\n",
      " ['Positif']\n",
      " ['Positif']\n",
      " ['Netral']\n",
      " ['Negatif']\n",
      " ['Netral']\n",
      " ['Positif']\n",
      " ['Negatif']\n",
      " ['Positif']\n",
      " ['Positif']\n",
      " ['Negatif']\n",
      " ['Positif']\n",
      " ['Positif']\n",
      " ['Negatif']\n",
      " ['Negatif']\n",
      " ['Negatif']\n",
      " ['Positif']\n",
      " ['Positif']\n",
      " ['Netral']\n",
      " ['Positif']]\n"
     ]
    }
   ],
   "source": [
    "text = tweet.values\n",
    "lb = lab.values\n",
    "print(lb)"
   ]
  },
  {
   "cell_type": "code",
   "execution_count": 117,
   "metadata": {},
   "outputs": [
    {
     "data": {
      "text/plain": [
       "335"
      ]
     },
     "execution_count": 117,
     "metadata": {},
     "output_type": "execute_result"
    }
   ],
   "source": [
    "predictions.shape[0]"
   ]
  },
  {
   "cell_type": "code",
   "execution_count": 118,
   "metadata": {
    "colab": {},
    "colab_type": "code",
    "id": "jjxTgMYF2m7C"
   },
   "outputs": [],
   "source": [
    "class_category = ['POSITIF','NEGATIF','NETRAL']"
   ]
  },
  {
   "cell_type": "code",
   "execution_count": 119,
   "metadata": {
    "colab": {
     "base_uri": "https://localhost:8080/",
     "height": 1000
    },
    "colab_type": "code",
    "id": "CB3YIaAf2m7F",
    "outputId": "6a037f71-83f7-4089-9190-6cea5c3d5803"
   },
   "outputs": [
    {
     "name": "stdout",
     "output_type": "stream",
     "text": [
      "[\"0 NEGATIF Negatif | ['pindah adegan asa bingung lompat adegan pindah kumpul angota dpr sancaka diskus wulan tara basro agung prit timothy kondisi aman']\"]\n",
      "[\"1 NEGATIF Negatif | ['ken aja pas nonton aja bikin ngantuk']\"]\n",
      "[\"2 POSITIF Positif | ['penasaran sm film jarang film sex education harap orng orng ngerti sex education biar gampang bego begoin']\"]\n",
      "[\"3 POSITIF Positif | ['kmrn ajak nonton gratis film gamaugasuka galau barusan nonton bahas film']\"]\n",
      "[\"4 NETRAL Positif | ['trans film seru banget']\"]\n",
      "[\"5 POSITIF Positif | ['kak kmrn waktu misa malam natal salah gereja katholik malang intensi misa mohon lancar tayang film sabar nih moga lancar']\"]\n",
      "[\"6 POSITIF Positif | ['arah music rilis single resmi ost film tayang tahun kemas lagu genre power pop segar lagu ambar saman capai tuju yuk dengar']\"]\n",
      "[\"7 POSITIF Netral | ['biar ngobatin penasaran film karya faozan rizal tungu trailer malam']\"]\n",
      "[\"8 POSITIF Positif | ['mar warkop dki senang koleksi film beliau beliau netflix']\"]\n",
      "[\"9 NETRAL Netral | ['list film tayang bioskop malang yowis ben nini thowok takut kawin titis seran dewa']\"]\n",
      "[\"10 POSITIF Positif | ['syukur udah turun ekspektasi serendah film kemaren bioskop dg peras puas alias suka banget dg film film joko anwar favorit pintu larang']\"]\n",
      "[\"11 NETRAL Negatif | ['sayang cerita eksekusi tarik aksiaksi lawan jahat datar undang emosi']\"]\n",
      "[\"12 NEGATIF Negatif | ['petisi film tabu takut']\"]\n",
      "[\"13 POSITIF Netral | ['yayan ruhiyan andi novianto visual efect artist sharing cerita seru behind the scene adegan adegan tarung film berandal']\"]\n",
      "[\"14 POSITIF Negatif | ['nonton film gue aman sih cerita gangu banget maksa udah emang ekspektasi tingi klo film waw cengang pesona wadidaw ngeliat cgi lho nang aja']\"]\n",
      "[\"15 POSITIF Netral | ['hehehe rio dewanto ganteng banget']\"]\n",
      "[\"16 NETRAL Netral | ['link download film cerita mkv gogle drive']\"]\n",
      "[\"17 NEGATIF Negatif | ['film benci banget']\"]\n",
      "[\"18 POSITIF Positif | ['moga caling om joko anwar tungu akting film season']\"]\n",
      "[\"19 POSITIF Negatif | ['petisi film garis biru tabu takut']\"]\n",
      "[\"20 NETRAL Negatif | ['sih film']\"]\n",
      "[\"21 POSITIF Netral | ['iya karna ugal ugalan bodyguard syahrini']\"]\n",
      "[\"22 NETRAL Netral | ['film']\"]\n",
      "[\"23 NETRAL Netral | ['pergok libur bareng bal milendaru pacar aktor film the raid']\"]\n",
      "[\"24 NEGATIF Negatif | ['film indo bodyguard ugal ugalan pls know this sounds stupid sm temen iseng banget liat syahrini akwkwk pas abis bioskop ketawa miris aja ud buang duit film paper town after siera bong castnya emg cakep banget']\"]\n",
      "[\"25 POSITIF Positif | ['kemarin waktu nonton film film bilang anjing ni film isi hidup']\"]\n",
      "[\"26 NETRAL Netral | ['md wts voucher tiket film xi cema hb rb tiket harga rb hj rb cod stasiun tangselmangarai shope minat dm']\"]\n",
      "[\"27 POSITIF Netral | ['siti badriah beautiful terima kasih senang movie premiere sabar tayang january in cemas jangan lupa tonton']\"]\n",
      "[\"28 POSITIF Positif | ['nonton film bagus banget kayak']\"]\n",
      "[\"29 NEGATIF Negatif | ['apas film samar']\"]\n",
      "[\"30 POSITIF Positif | ['team wings group join exclusive premiere film proud sister proud family sabar nonton']\"]\n",
      "[\"31 POSITIF Positif | ['film tayang undang antusiasme tingi kepala polisi ri jenderal tito karnavian kemari calon perwira kapolri tito nama baca lengkap']\"]\n",
      "[\"32 POSITIF Positif | ['keren banget film']\"]\n",
      "[\"33 POSITIF Positif | ['juang generasi milenial film']\"]\n",
      "[\"34 POSITIF Positif | ['banget pesan moral film gimana orangtua orangtua bayi udah remaja']\"]\n",
      "[\"35 NEGATIF Negatif | ['jujur nang lantas sebut film bagus aja sih temu halhal jangal film genre drama']\"]\n",
      "[\"36 NETRAL Netral | ['surabaya she radio tungu hadir cast kota kota jangan lupa nonton film bioskop bioskop sayang']\"]\n",
      "[\"37 NETRAL Positif | ['mantap hibur']\"]\n",
      "[\"38 POSITIF Positif | ['bagus banget astaga film udah mewek aja sunguh baper hati abis bikin nang eh bikin ketawa deh koh']\"]\n",
      "[\"39 NETRAL Netral | ['ra pictures garap film si']\"]\n",
      "[\"40 POSITIF Netral | ['mari nonton film inspirasi']\"]\n",
      "[\"41 NETRAL Netral | ['mari bahas hubung film serigala series serigala tayang htp thread']\"]\n",
      "[\"42 POSITIF Negatif | ['potong saldo transaksi dua gagal hubungin mana gada respon gimana dah bukti purchase history ticket film']\"]\n",
      "[\"43 POSITIF Positif | ['sabar film dito my luv']\"]\n",
      "[\"44 POSITIF Positif | ['penasaran film garis biru kayak bagus bagus film posesif']\"]\n",
      "[\"45 POSITIF Positif | ['gegara nonton film setan kredit sadar warkop dki banget kritik kritik sentil sarkasme dalem dialog dialog komedi jenius']\"]\n",
      "[\"46 POSITIF Netral | ['ibu maksa pake kudung sih hahaentah violence bentuk animasi turut diterimakalo asli ngeri gitukejadian pas nonton film anak mingu ketakutanpas nonton fairytale anteng']\"]\n",
      "[\"47 POSITIF Positif | ['bagus humor kakukaku lucu hehehe']\"]\n",
      "[\"48 POSITIF Netral | ['nax tengh tengah sosok aurora dlm film kek anjer kek banget selu nahan iri si bontot dpt perhati smpe jemput pas tk gegara mak bpa lupa sangkin asiknya ngurus si bontot']\"]\n",
      "[\"49 NEGATIF Negatif | ['pas udah gede cringe liat tv aktor film jelek']\"]\n",
      "[\"50 POSITIF Negatif | ['nasib emak gawl isi cht wa plg sekolah film awas nonton belum mana cepet pulang jgn nonton konser lgi dirs sampe rumah kemarin nonton drakor udah kasih ajar nonton yah serah']\"]\n",
      "[\"51 POSITIF Positif | ['keren banget sih eksekusi kejut film dasar kisah']\"]\n",
      "[\"52 NETRAL Netral | ['film']\"]\n",
      "[\"53 POSITIF Positif | ['gaksabar nungu film pas inspirasi mimanya lulu gimana karna baca kakak waktu temenya ngelayat rumah gitu']\"]\n",
      "[\"54 NEGATIF Positif | ['april luncur prangko jago indonesia hadir ket bekraf komunitas komik bloger seni filatelis giat film postcrosingkegiatan tsb harap dpt dorong industri kreatif']\"]\n",
      "[\"55 POSITIF Positif | ['abis mantramantralive trus malam wakacaw wakacaw hati batu terbubuque bubuque film plis januari nonton plis']\"]\n",
      "[\"56 NETRAL Netral | ['jadwal film indonesia cinemax senin yowis ben takut kawin']\"]\n",
      "[\"57 NETRAL Positif | ['oficial poster film tayang januari bioskop kisah yatim piatu hina tertawa alami luka batin pahit hidup terpingirkan pandang belah']\"]\n",
      "[\"58 POSITIF Positif | ['film sutradara mas joko anwar hm agenda']\"]\n",
      "[\"59 NEGATIF Negatif | ['abis nonton hm buang waktu sia sia anda waktu ulang baik cuci piring']\"]\n",
      "[\"60 NEGATIF Negatif | ['sunguh kecawa film spoiler dil temu dara bima temu milea adam diam diam tidur dil']\"]\n",
      "[\"61 NETRAL Netral | ['nontonya film nobar ana frozen']\"]\n",
      "[\"62 POSITIF Positif | ['lu keren koh panutan generasi muda mimpi nge direct film godluck utk film']\"]\n",
      "[\"63 NEGATIF Negatif | ['drama indonesai banget tebak alur']\"]\n",
      "[\"64 NETRAL Netral | ['film wkwk']\"]\n",
      "[\"65 POSITIF Positif | ['lu keren koh panutan generasi muda mimpi nge direct film godluck utk film']\"]\n",
      "[\"66 NETRAL Netral | ['baca buku sadar isyana awal film anak awan nerima surat ibu']\"]\n",
      "[\"67 POSITIF Netral | ['film soundtracknya rehat']\"]\n",
      "[\"68 NEGATIF Negatif | ['anak salah asuh genetik plek ketimplek bapak amin rais auto mual bikin film tuju saing man caled ahok jijik kalah pamor']\"]\n",
      "[\"69 POSITIF Netral | ['besok januari jangan lupa nonton film bioskop guys']\"]\n",
      "[\"70 POSITIF Negatif | ['abis nonton film suster ngesot asli jijik banget perselingkuhanya ewewewewe ros']\"]\n",
      "[\"71 NEGATIF Positif | ['gila banget scane film sampe sampe ibu dara bima tatap tatap aja bikin gue mewek']\"]\n",
      "[\"72 NETRAL Netral | ['jangan lupa saksi film the secret suster ngesot urban legend seluruh bioskop indonesia']\"]\n",
      "[\"73 POSITIF Positif | ['film hny urus tdk peduli thdp derit sy tuju laku nyata medsos campur urus']\"]\n",
      "[\"74 NEGATIF Negatif | ['edit maksa']\"]\n",
      "[\"75 POSITIF Positif | ['milik ekspetasi film pas nonton nang film ahaha iya alay bagi film rapi keren']\"]\n",
      "[\"76 NEGATIF Netral | ['film dapet ape mak']\"]\n",
      "[\"77 NETRAL Netral | ['film mingu bioskop dp']\"]\n",
      "[\"78 NETRAL Netral | ['tahun indonesia tingal orde orde belum tingal indonesia waris orde baik abadi museum film pidato gs pki generasi cerita']\"]\n",
      "[\"79 POSITIF Positif | ['film cerita juang siswa sekolah spi']\"]\n",
      "[\"80 POSITIF Positif | ['film populer anak bangsa indonesia bermanfat pesan moral']\"]\n",
      "[\"81 POSITIF Netral | ['terima kasih antusias suportnya positif teman teman acara pres conference gala premiere film epicentrum xi jakarta']\"]\n",
      "[\"82 POSITIF Negatif | ['aja tarik film']\"]\n",
      "[\"83 NETRAL Netral | ['nonton film sih tuh motivasi impi pantang serah wujud']\"]\n",
      "[\"84 NETRAL Netral | ['selamat favorit pilih masyarakat indonesia kategori favorit film cerita']\"]\n",
      "[\"85 NETRAL Netral | ['aldy rialdy aktor bangsa indonesia peran ruly film peran ruly terkedjoed bioskop so stay tune sob']\"]\n",
      "[\"86 POSITIF Positif | ['film garap tujuh film pahlawan super rumah produksi bumilangit studios screnplay picturesaksikan with besok wib']\"]\n",
      "[\"87 NETRAL Netral | ['tayang film dp mal']\"]\n",
      "[\"88 NETRAL Negatif | ['tolong kaji tayang film']\"]\n",
      "[\"89 NETRAL Netral | ['halah bong bilang aja lu nungu film']\"]\n",
      "[\"90 NETRAL Negatif | ['promo film tayang film bikin kaget banget filmya anjlok banget rate gara ranah politik sih iya sebab']\"]\n",
      "[\"91 NETRAL Netral | ['tayang januari nonton film balikpapan met and gret via']\"]\n",
      "[\"92 POSITIF Positif | ['kemarin ajak nonton bagus']\"]\n",
      "[\"93 NETRAL Netral | ['the movie hasil rafi ahmad kapok bikin film']\"]\n",
      "[\"94 POSITIF Positif | ['nonton film']\"]\n",
      "[\"95 POSITIF Netral | ['film biru ki sedulure film']\"]\n",
      "[\"96 POSITIF Positif | ['keren film relate hidup']\"]\n",
      "[\"97 NEGATIF Negatif | ['puruk putus asa liat rating film imdb alias anjir liat angka bikin ngakak wkwk']\"]\n",
      "[\"98 POSITIF Positif | ['keren film sadar syukur sadar potensi milik']\"]\n",
      "[\"99 POSITIF Positif | ['nulis blog film trus buka tulis film garis biru minder kadang baca tulis bagus kagum sapa nulis bagus bagus pas baca aja ismi nih']\"]\n",
      "[\"100 POSITIF Positif | ['gimana dah film stuck in my head']\"]\n",
      "[\"101 POSITIF Positif | ['pilih castingnya cocok banget sih turut keren']\"]\n",
      "[\"102 POSITIF Positif | ['walikota hadir exclusive premiere film humas']\"]\n",
      "[\"103 POSITIF Netral | ['tanganya bikin inget bima bimo film']\"]\n",
      "[\"104 NETRAL Netral | ['jadwal film indonesia transmart sabtu yowis ben studio dil']\"]\n",
      "[\"105 POSITIF Positif | ['film tv bagus bagus preman pensiun keluarga cemara']\"]\n",
      "[\"106 NETRAL Positif | ['trio kakakberadik rio dewanto sheila dara rachel amanda sangup tarik simpati tonton chemistry']\"]\n",
      "[\"107 POSITIF Netral | ['joko anwar kreaktif produser bumilangit cinematic universe disney hotstar tayang film bcu februari jagat sinema']\"]\n",
      "[\"108 POSITIF Positif | ['goes to schol diri tepat smp negeri diri tim main sekolah bisikin kolom komentar yah jangan lupa saksi film bioskop sayang']\"]\n",
      "[\"109 NETRAL Positif | ['nonton film ter inspirasi nyari suami terinpirasi mana coba']\"]\n",
      "[\"110 POSITIF Positif | ['film bagus neh gatau tayang']\"]\n",
      "[\"111 POSITIF Netral | ['tayang bioskop film kisah alumni sekolah spi inspiratif via']\"]\n",
      "[\"112 POSITIF Positif | ['brarti film bagus']\"]\n",
      "[\"113 POSITIF Positif | ['film hibur utuh pesan kaya apik']\"]\n",
      "[\"114 POSITIF Positif | ['oiya kemarin tim penuh nonton fenomenal']\"]\n",
      "[\"115 POSITIF Positif | ['nyanyi ardhito pranomo akting bagus adegan berpurapura']\"]\n",
      "[\"116 NEGATIF Negatif | ['alur klasik banget']\"]\n",
      "[\"117 NETRAL Netral | ['download film nkcthi cerita ful movie hd download nantikitaceritatentangharini mingu seninsemangat seninambyar']\"]\n",
      "[\"118 NETRAL Netral | ['biar film kelas cuman film doang dibuly']\"]\n",
      "[\"119 NETRAL Netral | ['gempita el parodi film dil']\"]\n",
      "[\"120 POSITIF Positif | ['duh si film keren banget sih']\"]\n",
      "[\"121 POSITIF Positif | ['film ajar otak aja gag tampil film ajar otak aja gag atitude']\"]\n",
      "[\"122 NETRAL Netral | ['film cerita produser michael chow']\"]\n",
      "[\"123 POSITIF Positif | ['nonton film bagus banget kayak']\"]\n",
      "[\"124 NETRAL Netral | ['serius nanya beneran sih sosok fahri hidup film drama romantis indonesia kaya nilai moral pas banget nemenin wekend bareng keluarga yuk nonton viu']\"]\n",
      "[\"125 NETRAL Netral | ['film kamis bioskop dp']\"]\n",
      "[\"126 NETRAL Netral | ['film saksi bioskop indonesia sheren peran rania putrisari bioskop januari']\"]\n",
      "[\"127 NETRAL Netral | ['tahun reading workshop main film ayatayat cinta film industri kabar throwback']\"]\n",
      "[\"128 POSITIF Positif | ['kadang baikbaik sabar nonton film']\"]\n",
      "[\"129 NEGATIF Netral | ['jadwal tayang film indonesia januari jan titus of the enigma surat mati abracadabra jan janin nyanyi akar rumput jan dignitate sidoel manga muda jan mangkujiwo semesta teman kondangan yuk nonton film indonesia']\"]\n",
      "[\"130 NEGATIF Negatif | ['ciri iq jelek nonton film']\"]\n",
      "[\"131 NEGATIF Negatif | ['cgi maksa']\"]\n",
      "[\"132 NETRAL Netral | ['selamat pagi teman bumilangit gimana kemarin nonton udah ngobatin kangen aksi jago heh belum andai nobar cast jelang tahun tayang film nih teman bumilangit']\"]\n",
      "[\"133 POSITIF Positif | ['udah nonton film suara gimana guys bagus']\"]\n",
      "[\"134 POSITIF Positif | ['film adaptasi kisah juang ajar indonesia film']\"]\n",
      "[\"135 NEGATIF Netral | ['gue tau pengky tukang ojek pengkol super banget aja tuh kemaren main film']\"]\n",
      "[\"136 NEGATIF Negatif | ['rating film']\"]\n",
      "[\"137 POSITIF Positif | ['film cerita bagus dekat hidup seharihari sadar pas nonton tibatiba air netes gitu aja']\"]\n",
      "[\"138 POSITIF Positif | ['film kombinasi sempurna komedi kelitik drama sentuh hati action tegang gue tau bilang perfect']\"]\n",
      "[\"139 NETRAL Negatif | ['film tayang cgv doang huhuhuhuhuhu so sad']\"]\n",
      "[\"140 POSITIF Netral | ['terimakasih luang waktu tonton film sempat nonton transmart jam']\"]\n",
      "[\"141 POSITIF Positif | ['iyah gemes film actingnya bagus']\"]\n",
      "[\"142 NEGATIF Negatif | ['jelek parah']\"]\n",
      "[\"143 NETRAL Netral | ['the movie hasil rafi ahmad kapok bikin film']\"]\n",
      "[\"144 NETRAL Netral | ['jadwal film indonesia cinemax selasa yowis ben takut kawin']\"]\n",
      "[\"145 POSITIF Positif | ['nonton film warkop dki siang pilih']\"]\n",
      "[\"146 POSITIF Negatif | ['bagus versi joko anwar cuman beda ekspektasi selera ajah slama komik orinya banding film entar bikin video review pedas joko anwar chanel youtubeku']\"]\n",
      "[\"147 NETRAL Netral | ['soundtrack lagu film cerita tentag favorit ardhito pramono isyana sarasvati kunto aji hindia sisir tanah chiki fawzi arah saji tampil balut cerita cerita film cerita']\"]\n",
      "[\"148 NEGATIF Negatif | ['samar banget film mah pera jelek']\"]\n",
      "[\"149 POSITIF Positif | ['sabar nonton film']\"]\n",
      "[\"150 NEGATIF Positif | ['ni anak film nongol mulu explore instagram tau tau aja kesengsem']\"]\n",
      "[\"151 NETRAL Netral | ['film tonton']\"]\n",
      "[\"152 NETRAL Netral | ['anjer film film warkop netflix']\"]\n",
      "[\"153 NEGATIF Negatif | ['hibur jelek efek lebay parah']\"]\n",
      "[\"154 POSITIF Positif | ['film cerita bagus dekat hidup seharihari sadar pas nonton tibatiba air netes gitu aja']\"]\n",
      "[\"155 POSITIF Positif | ['haru banget nonton alur cerita keren']\"]\n",
      "[\"156 POSITIF Netral | ['gimana udah nonton film udah kirim pesan link belum ayo coba pesan kirim kirim gmail kirim masa loh udah coba trus bacain pesan lucu banget sedih baper']\"]\n",
      "[\"157 NEGATIF Netral | ['uda nonton film tetep aja geli gimana gitu wkwk aneh']\"]\n",
      "[\"158 POSITIF Positif | ['plis gasabar pgn nonton film nkcthi banget sih tahun']\"]\n",
      "[\"159 NETRAL Netral | ['rabu film indonesia semarang edar bioskop bayi gaib citra sekala niskala dp transmart']\"]\n",
      "[\"160 NETRAL Netral | ['rachel amanda peran awan film']\"]\n",
      "[\"161 NETRAL Netral | ['jual kaos film the movie harga rp dapat produk shope']\"]\n",
      "[\"162 POSITIF Positif | ['habis nonton film film inspired banget sentuh ranga sih dadi keling sik mbiyen mbiyen']\"]\n",
      "[\"163 NEGATIF Negatif | ['jelek sih gue']\"]\n",
      "[\"164 NETRAL Netral | ['oh wujud fakboi kayak kale film nkcthi']\"]\n",
      "[\"165 POSITIF Positif | ['film bodyguard ugal ugalan tarik tonton butuh hibur']\"]\n",
      "[\"166 NETRAL Netral | ['udah film ganti film centang biru']\"]\n",
      "[\"167 POSITIF Positif | ['semenjak nonton film ngegas lgi luv jumi']\"]\n",
      "[\"168 NETRAL Netral | ['festival film internasional shanghai tahun daring luring tangal juli agustus tiket jual daring salah film asing putar film indonesia judul cerita']\"]\n",
      "[\"169 NETRAL Netral | ['jadwal film indonesia transmart senin yowis ben studio dil']\"]\n",
      "[\"170 POSITIF Positif | ['ciri khas film inspirasi cukmaen filem ngajak kuntilanak rombonganyapa banga akting cukcumawhuabakekokterus treakan']\"]\n",
      "[\"171 NETRAL Netral | ['semiotik film']\"]\n",
      "[\"172 POSITIF Positif | ['habis nonton film film inspired banget sentuh ranga sih dadi keling sik mbiyen mbiyen']\"]\n",
      "[\"173 POSITIF Positif | ['film lucu gokil tuh bodyguard ugal ugalan']\"]\n",
      "[\"174 POSITIF Positif | ['oke gus kayak tarik film anak negeri pulang nonton dapet pacar']\"]\n",
      "[\"175 POSITIF Netral | ['komentarkomentar netizen nikmat film semangat yuk buru nonton film belum nonton film tayang bioskop']\"]\n",
      "[\"176 POSITIF Positif | ['baca mereun jd inget cuplik film eh kerjan']\"]\n",
      "[\"177 POSITIF Positif | ['film juang ubah nasib tengah']\"]\n",
      "[\"178 POSITIF Positif | ['nonton film ngeh anak bumi langit mas imansyah lubis oyasujiwo cerita juang butuh waktu tahun up quotes bagus banget cinta butuh keras kepala']\"]\n",
      "[\"179 POSITIF Negatif | ['film jelek aja lbh bagus nih film']\"]\n",
      "[\"180 NEGATIF Negatif | ['mas kecewa film reviewnya jelek tonton atas ribu hitung sukses gagal mas']\"]\n",
      "[\"181 POSITIF Negatif | ['orisinil euy adegan jiplak']\"]\n",
      "[\"182 POSITIF Positif | ['kapolri jenderal tito karnavian sambut positif film']\"]\n",
      "[\"183 NETRAL Netral | ['film on bioskop']\"]\n",
      "[\"184 NETRAL Positif | ['habis nonton film ambil ajar anak muda nakal cangih jangan an nakal pikir resiko']\"]\n",
      "[\"185 POSITIF Positif | ['keren lur']\"]\n",
      "[\"186 NEGATIF Negatif | ['utk film super mahal tonton cuman juta tonton gagal box ofice juta juta film bagus banget gitu ajah nyakurang wow']\"]\n",
      "[\"187 POSITIF Netral | ['tahun minat nonton film bioskop nonton film sm mantan tngal juli tepat']\"]\n",
      "[\"188 POSITIF Positif | ['bagus banget astaga film udah mewek aja sunguh baper hati abis bikin nang eh bikin ketawa deh koh']\"]\n",
      "[\"189 POSITIF Netral | ['seta gugel judul bodyguard ugal ugalan mba']\"]\n",
      "[\"190 NETRAL Netral | ['filmakers bareng kak awi suryadi sutradara genre horor film indonesia danur danur danur son kn desa tari gratis sineas']\"]\n",
      "[\"191 POSITIF Netral | ['timbang angka nilai sempurna bahagia jesika mila rara film']\"]\n",
      "[\"192 NETRAL Positif | ['film kes sosok pengkor mas']\"]\n",
      "[\"193 POSITIF Positif | ['nonton mily mamet movie hoqduh bagus lucu banget bagus banget sm drama kehidupanya ah sabar nungu film nyapasti film nyentil banget']\"]\n",
      "[\"194 POSITIF Positif | ['bagus kemas detil script take mai']\"]\n",
      "[\"195 POSITIF Netral | ['eh rio dewanto film my idola']\"]\n",
      "[\"196 POSITIF Positif | ['film kisah juang generasimilenial']\"]\n",
      "[\"197 NETRAL Netral | ['tayang platform streaming resmi htp film skenario joko anwar cerita hasmi abimana aryasatya warkop dki reborn tara basro abdi setan dony alamsyah']\"]\n",
      "[\"198 POSITIF Positif | ['film warkop netflix gambar bagus banget']\"]\n",
      "[\"199 NETRAL Negatif | ['film ngk laku pasaransebulan ato brp mingu habis tayang bioskoplgsg ditayangin sctv']\"]\n",
      "[\"200 POSITIF Positif | ['film sempurna no kritik']\"]\n",
      "[\"201 POSITIF Positif | ['tulis natasha asterin aditama nama latar hidup karakter dl unsur sengaja karakter inspirasi film garis biru young mom cont']\"]\n",
      "[\"202 NEGATIF Negatif | ['dlm film suit pake suit gik tok salah suit akn dtg baruk practical form jak belum cgi gik']\"]\n",
      "[\"203 POSITIF Positif | ['scene favorit film']\"]\n",
      "[\"204 POSITIF Positif | ['bagus komik artworknya lho gambar neng ngeliat gambar karya btw sukses film malaysia']\"]\n",
      "[\"205 POSITIF Positif | ['film lucu gokil tuh bodyguard ugal ugalan']\"]\n",
      "[\"206 NETRAL Netral | ['why live ig agustus pm ayudya film love for sale obrol film seni peran ig']\"]\n",
      "[\"207 POSITIF Positif | ['rara film baikbaik dunia sopan']\"]\n",
      "[\"208 POSITIF Positif | ['episode series apetiser koda hasil banget bikin ngiler nungu datang saji utama si film penasaran kisah keluarga angkasa awan gimana cerita film sabar']\"]\n",
      "[\"209 NEGATIF Netral | ['duh andai pacar kayak dika']\"]\n",
      "[\"210 NEGATIF Negatif | ['gabut nonton film garis biru sadar bodoh banget tu cowok dalem rumit']\"]\n",
      "[\"211 POSITIF Positif | ['ih gaboleh coba deh liat film']\"]\n",
      "[\"212 NEGATIF Netral | ['film sutradara sukses film horor abdi setan film drama film superhero cerita maya']\"]\n",
      "[\"213 NEGATIF Negatif | ['film samar banget']\"]\n",
      "[\"214 NETRAL Netral | ['soulver rindu peran kale film nkcthi sebentar film lepas kale lho sukses film nkcthi cerita sutradara anga dwimas sasongko']\"]\n",
      "[\"215 NETRAL Netral | ['totalitas batas pera film jesica mila naik berat badan kg']\"]\n",
      "[\"216 POSITIF Positif | ['keren film sadar syukur sadar potensi milik']\"]\n",
      "[\"217 POSITIF Positif | ['ken nonton film']\"]\n",
      "[\"218 NEGATIF Negatif | ['nonton film menit aja udah merinding rem horor bangsat wakakakakak nyesel nontonya']\"]\n",
      "[\"219 NETRAL Positif | ['mbak upi ngedirect film sri asih pevita pearce belah sancaka abimana aryasatya sang bang joko anwar director film sabar putra petir']\"]\n",
      "[\"220 POSITIF Positif | ['soundtrack film ngena banget rara sekar suara merdu lagu masukin playlist lagu favorit']\"]\n",
      "[\"221 POSITIF Positif | ['film film baik tonton motivasi lucu']\"]\n",
      "[\"222 POSITIF Positif | ['bagus insecure sm saranin tonton film film main jesica mila']\"]\n",
      "[\"223 NEGATIF Netral | ['lokasi chatime giat revisi cv ama bikin resume ling dengar tante ngomelin paguyubanya gamau diajakin nonton film']\"]\n",
      "[\"224 NETRAL Positif | ['film mimpi jangan nangung']\"]\n",
      "[\"225 NETRAL Netral | ['adhisty zara ariela calista ichwan cindy hapsari maharani pujiantoro putri jkt film garis biru']\"]\n",
      "[\"226 POSITIF Positif | ['film garis biru kek gusba']\"]\n",
      "[\"227 POSITIF Negatif | ['jalan cerita mudah tebak bagus']\"]\n",
      "[\"228 POSITIF Negatif | ['gils bosen banget nonton film udah tebak cerita']\"]\n",
      "[\"229 POSITIF Positif | ['oke film garis biru ratingnya']\"]\n",
      "[\"230 NETRAL Netral | ['rafi ahmad nagita slavina hadir premiere film the secret']\"]\n",
      "[\"231 NETRAL Positif | ['mantap hibur']\"]\n",
      "[\"232 NETRAL Netral | ['jadwal film indonesia dpmal selasa yowis ben eifel dil']\"]\n",
      "[\"233 POSITIF Positif | ['ku bagus banget namanama film tuhridwan bahriganda hamdandirga utamatanto ginanjardesti nikitaghani zulhamfadli azisito marbunenak gitu nama bagusbagus']\"]\n",
      "[\"234 NETRAL Negatif | ['film']\"]\n",
      "[\"235 NETRAL Netral | ['rantau iko uwais didapuk bintang utama film sia sia usaha sang sutradara gareth evans bakat beladiri iko guru silat']\"]\n",
      "[\"236 NETRAL Netral | ['mikir jauh ira kale saudara kembar awan adopsi aha ngira kayak gin']\"]\n",
      "[\"237 NEGATIF Negatif | ['sesal tonton film']\"]\n",
      "[\"238 NETRAL Positif | ['inget film transit cgk hours wkwk']\"]\n",
      "[\"239 NETRAL Netral | ['sunday suspense rater alap bengal short film via']\"]\n",
      "[\"240 POSITIF Positif | ['film bagus']\"]\n",
      "[\"241 NETRAL Netral | ['jakarta juni saman prescon film produser starvision chand parwez servia produser ernest prakasa penghargan bene dion sutradara ghost writer']\"]\n",
      "[\"242 POSITIF Positif | ['bagus modifikasi karya karya bagus filkop keluarga cemara moga visinema benarbenar film cerita brilian tau buku ignya isi kutip']\"]\n",
      "[\"243 POSITIF Positif | ['wajib tonton yh sumpah film keren sedih lucu pokok komplit wajib tonton yh']\"]\n",
      "[\"244 NEGATIF Negatif | ['jelek monoton']\"]\n",
      "[\"245 NEGATIF Negatif | ['danur alas fix gue nonton film horor indo film remake']\"]\n",
      "[\"246 NEGATIF Negatif | ['gue jelek film latar sial tempat lewatin cerita masingmasing']\"]\n",
      "[\"247 POSITIF Positif | ['film warkop netflix bagus buanget kualitas gimana tuh']\"]\n",
      "[\"248 NEGATIF Negatif | ['ken marah marah saia kasih spoiler film garuda superhero reviewnya jelek banget pic']\"]\n",
      "[\"249 POSITIF Positif | ['tonton film meni jauh sedih takut idk']\"]\n",
      "[\"250 NEGATIF Positif | ['kesini sadar betapa bagus film garuda superhero untung nontonhaha']\"]\n",
      "[\"251 POSITIF Positif | ['film kek bagus coming son']\"]\n",
      "[\"252 POSITIF Positif | ['garuda the new superhero bagus tu direview tetep mas bagus film masterpiece si']\"]\n",
      "[\"253 NEGATIF Netral | ['sukak liat bor kwkw']\"]\n",
      "[\"254 NEGATIF Negatif | ['ekspetasiku film kayak tingi kecewa']\"]\n",
      "[\"255 POSITIF Positif | ['if being perfect is your hapines give me time because already love your ions film juara banget']\"]\n",
      "[\"256 POSITIF Negatif | ['bintang film relate hidup ketidakpasan aja sih']\"]\n",
      "[\"257 POSITIF Positif | ['yeaybsk udah gala premiere film malaysia jngn lupa datengbakal ketemu bimadara nih']\"]\n",
      "[\"258 NETRAL Netral | ['pas nonton ni teaser vibes bener bener kya film merinding keinget peter cs tbh bagus banget wei gasabar tangal btw jay berani nonton teasernya given taken teaser out now htp is coming']\"]\n",
      "[\"259 NETRAL Netral | ['film cerita cewek gendut trus kurus']\"]\n",
      "[\"260 NETRAL Netral | ['film lepas cerita bintang story of kale when someone in love rilis oktober layan streaming bioskop online']\"]\n",
      "[\"261 POSITIF Positif | ['salah film edukasi baik wajib nonton']\"]\n",
      "[\"262 NETRAL Netral | ['metamiarsa tau sih film nkcthi cerita garap ardhito pramono kale stay tuned bareng deon adi faza novrianto sampe jam malem jangan lupa request lagu favorit']\"]\n",
      "[\"263 POSITIF Netral | ['film udh iflix wkwkwmkw']\"]\n",
      "[\"264 NEGATIF Negatif | ['kes maksa grenscren liat banget cok wkwk']\"]\n",
      "[\"265 POSITIF Positif | ['moga rezeki umur temu dg awan film']\"]\n",
      "[\"266 NEGATIF Positif | ['bumilangit cinematic universe mcu dceu indonesia tokoh jagoanya komik buka film agustus']\"]\n",
      "[\"267 POSITIF Positif | ['bagus modifikasi karya karya bagus filkop keluarga cemara moga visinema benarbenar film cerita brilian tau buku ignya isi kutip']\"]\n",
      "[\"268 NEGATIF Negatif | ['jelek ah film']\"]\n",
      "[\"269 POSITIF Positif | ['film genre superhero curi perhati mar agustus rilis film putra petir film garap joko anwar adaptasi komik']\"]\n",
      "[\"270 POSITIF Positif | ['bagus film isi juang anak anak bisamewujudkan cita cita belum cerdas bisamewujudkan cita cita salut anak anak spi anak anak so']\"]\n",
      "[\"271 NEGATIF Positif | ['karakter superhero indonesia salah satu komik lai moga tonton film ambil pesan moral film selamat nikmat sahabat indonesia']\"]\n",
      "[\"272 POSITIF Positif | ['bagus kirain cuman film batas body shaming insecure']\"]\n",
      "[\"273 POSITIF Positif | ['film ko pas sampe rumah pas bayang adegan bawa nang mulu cmn doang']\"]\n",
      "[\"274 POSITIF Positif | ['moga film superhero indonesia bangkit kualitas cgi tara superhero holywod harap tingi film make cgi garap holywod pleasejangan cgi indonesia maksimal hasil contoh wiro sableng cginya kasar']\"]\n",
      "[\"275 POSITIF Positif | ['hasil nonton film scene uks emang keren']\"]\n",
      "[\"276 POSITIF Netral | ['ada teman nonton film']\"]\n",
      "[\"277 POSITIF Positif | ['coba analisis semiotika dala film sana banget lik sih']\"]\n",
      "[\"278 NETRAL Negatif | ['belum tau crita batman tayang joker udah beda crita kayak film critanya udah berbda versi asli tayang']\"]\n",
      "[\"279 NEGATIF Negatif | ['utk film super mahal tonton cuman juta tonton gagal box ofice juta juta film bagus banget gitu ajah nyakurang wow']\"]\n",
      "[\"280 NEGATIF Negatif | ['rona film horor gada film horor rem film indonesia hantu buruk banget']\"]\n",
      "[\"281 POSITIF Positif | ['habis nonton trailer film film dialog bilang jelek lo gabakal ngerti shit that hurts']\"]\n",
      "[\"282 POSITIF Positif | ['nonton film temenku jelek nih genre kek gitu yauda aja hm']\"]\n",
      "[\"283 POSITIF Positif | ['nonton film film bagus inspirasi kemarin tim jci east java unjung markas sekolah selamat pagi indonesia']\"]\n",
      "[\"284 POSITIF Netral | ['terima kasih antusias suportnya positif teman teman acara pres conference gala premiere film epicentrum xi jakarta tayang']\"]\n",
      "[\"285 NEGATIF Negatif | ['jalan cerita mudah tebak jelek']\"]\n",
      "[\"286 NETRAL Netral | ['film']\"]\n",
      "[\"287 NEGATIF Negatif | ['wkwk samar banget anjing']\"]\n",
      "[\"288 POSITIF Positif | ['film kek gusba']\"]\n",
      "[\"289 POSITIF Positif | ['pikir sih film kurang harap utk sekuel jauh baik tungu selamat film indonesia']\"]\n",
      "[\"290 NETRAL Netral | ['biografi aktor indonesia selamat pagi sineas indonesia sih kenal iko uwais ituloh aktor bintang film iko bintang film film holywod loh mile stuber star wars']\"]\n",
      "[\"291 POSITIF Positif | ['nonton garis biru iflix bagus banget drama keluarga lengkap banget gatau nang film']\"]\n",
      "[\"292 NETRAL Netral | ['lbur msh badan dh kek film']\"]\n",
      "[\"293 POSITIF Positif | ['cantik segmentasi sendirisendiri gantung selera kak ketidaksempurnan larang jadi kufur nikmat minder sesuai tagline film ubah insekyur syukur']\"]\n",
      "[\"294 POSITIF Positif | ['ea film bagus wajib tonton milea jgn kabor']\"]\n",
      "[\"295 POSITIF Positif | ['aja nonton keren banget jam faham']\"]\n",
      "[\"296 NETRAL Netral | ['tolong direport gaes ful film ngupload yutub']\"]\n",
      "[\"297 POSITIF Positif | ['jokes jokes film warkop emng bagus']\"]\n",
      "[\"298 NETRAL Positif | ['lu kesel patah hati banyak tonton film warkop dki insya kurang kesel kehilanganya tertawa obat hilang stres tertawa efek samping stres']\"]\n",
      "[\"299 POSITIF Negatif | ['film buruk kamus ku film bikin alah sabar film tuh film editingnya pake cgi tau dipake film film holywod liat film turut outputnya bagus kayak nang']\"]\n",
      "[\"300 NEGATIF Netral | ['film nasional nyebutin aja film indonesia baik versi pilih']\"]\n",
      "[\"301 NETRAL Positif | ['nobar spesial banget ketemu alumni spihighschol ridwan salah tokoh film wow seru banget dah film belum']\"]\n",
      "[\"302 NEGATIF Negatif | ['list film sampah tonton mile suicide squad astaghfirulah nyeselnya naujubilah wkwk teman meni bangke taik lanjutin']\"]\n",
      "[\"303 NETRAL Netral | ['nonton film cerita ful movie htp']\"]\n",
      "[\"304 POSITIF Negatif | ['sia dibikinin film klo gin mah tolol']\"]\n",
      "[\"305 NEGATIF Negatif | ['bnyk unsur komedi pntes gagal']\"]\n",
      "[\"306 POSITIF Positif | ['eru uda rasa belum antusiasme komik lokal film kemarin']\"]\n",
      "[\"307 NETRAL Netral | ['tayang januari oficial trailer']\"]\n",
      "[\"308 NEGATIF Negatif | ['sunguh kecawa film garis biru spoiler dil temu dara bima temu milea adam diam diam tidur dil']\"]\n",
      "[\"309 POSITIF Positif | ['ken nonton peter rabit aduh tuh film keren bingits']\"]\n",
      "[\"310 POSITIF Netral | ['film tonton xi cerita waktu nonton adek citraland semarang tahun desember']\"]\n",
      "[\"311 NETRAL Positif | ['jd sbr film nkcthi']\"]\n",
      "[\"312 POSITIF Positif | ['sabar nonton film animasi dg bpip tg nilai pancasila']\"]\n",
      "[\"313 POSITIF Positif | ['dukung indonesia superhero kayak ksatria garuda bagus film anak sayang jam tayang jam sekolah']\"]\n",
      "[\"314 NETRAL Netral | ['bom tau film']\"]\n",
      "[\"315 POSITIF Positif | ['mari nonton film insight sunguh minat chat me']\"]\n",
      "[\"316 POSITIF Positif | ['nonton garis biru iflix jujur film bagus banget sih yalah gue sedih nang sedu sedu nontonya huwa']\"]\n",
      "[\"317 POSITIF Positif | ['maraton brp film warkop script kasino emg juara sih']\"]\n",
      "[\"318 NETRAL Netral | ['lolox idola aing']\"]\n",
      "[\"319 NEGATIF Negatif | ['muahahaha film indoxi penasaran aja film garing busuk']\"]\n",
      "[\"320 NETRAL Netral | ['abis online voting film karya anak bangsa bagus nih cerita nkcthi anugerah bi website yuk voting produk lokal bagus']\"]\n",
      "[\"321 POSITIF Positif | ['nonton film bagus banget kayak']\"]\n",
      "[\"322 NETRAL Negatif | ['cerita muak']\"]\n",
      "[\"323 NETRAL Positif | ['ayo ah nonton bodyguard ugal ugalan']\"]\n",
      "[\"324 POSITIF Positif | ['film pake soundtracknya mantra mantra ambyar coba tu film tu']\"]\n",
      "[\"325 NEGATIF Negatif | ['rona film horor gada apa film horor rem film indonesia hantu buruk banget']\"]\n",
      "[\"326 POSITIF Positif | ['eh film garis biru sex education']\"]\n",
      "[\"327 POSITIF Positif | ['jd sbr film']\"]\n",
      "[\"328 NEGATIF Negatif | ['jelangkung tahun laluhabis nonton pengin teriak duit stop nonton film sutradara']\"]\n",
      "[\"329 NEGATIF Negatif | ['film indo nih bayi gaib awkwkwk trs bodyguard ugal ugalan asli temen gada kerjan banget nton ginian']\"]\n",
      "[\"330 NETRAL Negatif | ['film kabarkabarnya tonton yak bioskop kemaren ditayangin tv late night hour aja bohong']\"]\n",
      "[\"331 NETRAL Positif | ['keinget pas nonton film garis biru pas dara jemput mama papa pulang rumah ikantanmu rela auto ngalir air']\"]\n",
      "[\"332 POSITIF Positif | ['film keren tonton']\"]\n",
      "[\"333 NETRAL Netral | ['tim polisi tugas serbu sergap tama riyadi gembong narkoba kenal tonton film aksi mudah maxstream film seru yuk download maxstream']\"]\n",
      "[\"334 POSITIF Positif | ['udah nonton bagus banget filmya']\"]\n"
     ]
    }
   ],
   "source": [
    "for i in range(predictions.shape[0]):\n",
    "    twt = text[i]\n",
    "    lbe = lb[i]\n",
    "    print(str(i)+\" \"+class_category[predictions[i].argmax()]+\" \"+lbe+\" | \"+str(twt))"
   ]
  },
  {
   "cell_type": "code",
   "execution_count": 120,
   "metadata": {
    "colab": {},
    "colab_type": "code",
    "id": "9_a3lrHm2m7J"
   },
   "outputs": [],
   "source": [
    "\n",
    "labels = ['Positif','Negatif','Netral']"
   ]
  },
  {
   "cell_type": "code",
   "execution_count": 121,
   "metadata": {
    "colab": {},
    "colab_type": "code",
    "id": "iX7bOFGh2m7M"
   },
   "outputs": [],
   "source": [
    "prediction_labels=[]\n",
    "for p in predictions:\n",
    "    prediction_labels.append(labels[np.argmax(p)])"
   ]
  },
  {
   "cell_type": "code",
   "execution_count": 122,
   "metadata": {
    "colab": {
     "base_uri": "https://localhost:8080/",
     "height": 34
    },
    "colab_type": "code",
    "id": "p_HTG_a52m7V",
    "outputId": "a3f3ddbd-bbec-4631-9e83-5f86c0fb5ea9"
   },
   "outputs": [
    {
     "data": {
      "text/plain": [
       "0.7582089552238805"
      ]
     },
     "execution_count": 122,
     "metadata": {},
     "output_type": "execute_result"
    }
   ],
   "source": [
    "sum(data_test.label==prediction_labels)/len(prediction_labels)"
   ]
  },
  {
   "cell_type": "code",
   "execution_count": 123,
   "metadata": {
    "colab": {
     "base_uri": "https://localhost:8080/",
     "height": 34
    },
    "colab_type": "code",
    "id": "n5vUaZhI2m7j",
    "outputId": "1244d2f2-3d5c-4615-c929-365510b7c032"
   },
   "outputs": [
    {
     "name": "stdout",
     "output_type": "stream",
     "text": [
      "254\n"
     ]
    }
   ],
   "source": [
    "print(sum(data_test.label==prediction_labels))"
   ]
  },
  {
   "cell_type": "code",
   "execution_count": 124,
   "metadata": {
    "colab": {
     "base_uri": "https://localhost:8080/",
     "height": 34
    },
    "colab_type": "code",
    "id": "yzFI99ro2m7m",
    "outputId": "0900db67-4e60-48ba-f1d3-789a5775b43a"
   },
   "outputs": [
    {
     "name": "stdout",
     "output_type": "stream",
     "text": [
      "81\n"
     ]
    }
   ],
   "source": [
    "print(sum(data_test.label!=prediction_labels))"
   ]
  },
  {
   "cell_type": "code",
   "execution_count": 125,
   "metadata": {
    "colab": {
     "base_uri": "https://localhost:8080/",
     "height": 34
    },
    "colab_type": "code",
    "id": "ocfOxY3l2m7r",
    "outputId": "32dfb959-ff6c-4f0c-9555-db556323cb89",
    "scrolled": true
   },
   "outputs": [
    {
     "name": "stdout",
     "output_type": "stream",
     "text": [
      "335\n"
     ]
    }
   ],
   "source": [
    "print(len(prediction_labels))"
   ]
  },
  {
   "cell_type": "code",
   "execution_count": 275,
   "metadata": {},
   "outputs": [
    {
     "name": "stdout",
     "output_type": "stream",
     "text": [
      "115\n",
      "24\n",
      "0.8273381294964028\n"
     ]
    }
   ],
   "source": [
    "tp = 0\n",
    "fp = 0\n",
    "presisi = 0\n",
    "for i in range(len(data_test.label)):\n",
    "    if lb[i] == 'Positif' and prediction_labels[i] == 'Positif':\n",
    "        tp = tp+1\n",
    "    if lb[i] == 'Positif' and prediction_labels[i] != 'Positif':\n",
    "        fp = fp+1\n",
    "print(tp)\n",
    "print(fp)\n",
    "presisi = tp/(tp+fp)\n",
    "print(presisi)"
   ]
  },
  {
   "cell_type": "code",
   "execution_count": 276,
   "metadata": {},
   "outputs": [
    {
     "name": "stdout",
     "output_type": "stream",
     "text": [
      "36\n",
      "41\n",
      "0.7371794871794872\n"
     ]
    }
   ],
   "source": [
    "tn = 0\n",
    "fn = 0\n",
    "recall = 0\n",
    "for i in range(len(data_test.label)):\n",
    "    if lb[i] == 'Negatif' and prediction_labels[i] == 'Negatif':\n",
    "        tn = tn+1\n",
    "    if lb[i] != 'Positif' and prediction_labels[i] == 'Positif':\n",
    "        fn = fn+1\n",
    "        \n",
    "print(tn)\n",
    "print(fn)\n",
    "\n",
    "recall = tp/(tp+fn)\n",
    "print(recall)"
   ]
  },
  {
   "cell_type": "code",
   "execution_count": 277,
   "metadata": {},
   "outputs": [
    {
     "name": "stdout",
     "output_type": "stream",
     "text": [
      "0.7796610169491525\n"
     ]
    }
   ],
   "source": [
    "fi = 2*(presisi*recall)/(presisi+recall)\n",
    "print (fi)"
   ]
  },
  {
   "cell_type": "code",
   "execution_count": 278,
   "metadata": {},
   "outputs": [
    {
     "name": "stdout",
     "output_type": "stream",
     "text": [
      "netral : 98\n",
      "negatif : 60\n",
      "postifi : 139\n"
     ]
    }
   ],
   "source": [
    "ab = 0\n",
    "ac = 0\n",
    "aa = 0\n",
    "for i in (lb):\n",
    "    if i == 'Positif':\n",
    "        ab = ab+1\n",
    "    if i == 'Negatif':\n",
    "        aa = aa+1\n",
    "    if i == 'Netral':\n",
    "        ac = ac+1\n",
    "print (\"netral : \"+str(ac))\n",
    "print (\"negatif : \"+str(aa))\n",
    "print (\"postifi : \"+str(ab))"
   ]
  },
  {
   "cell_type": "code",
   "execution_count": 290,
   "metadata": {},
   "outputs": [
    {
     "name": "stdout",
     "output_type": "stream",
     "text": [
      "         Positif  Negatif  Netral\n",
      "Positif      115       10      14\n",
      "Negatif       16       36       8\n",
      "Netral        25        5      68\n"
     ]
    }
   ],
   "source": [
    "from sklearn.metrics import confusion_matrix\n",
    "labels = ['Positif','Negatif','Netral']\n",
    "\n",
    "cf_kategori = pd.DataFrame(\n",
    "    data=confusion_matrix(lb, prediction_labels, labels=labels),\n",
    "    columns=labels,\n",
    "    index=labels\n",
    ")\n",
    "print(cf_kategori)\n"
   ]
  },
  {
   "cell_type": "code",
   "execution_count": 280,
   "metadata": {},
   "outputs": [
    {
     "name": "stdout",
     "output_type": "stream",
     "text": [
      "0.7096774193548387\n"
     ]
    }
   ],
   "source": [
    "tpos = (108+41+27)/248\n",
    "print(tpos)"
   ]
  },
  {
   "cell_type": "code",
   "execution_count": 282,
   "metadata": {},
   "outputs": [
    {
     "name": "stdout",
     "output_type": "stream",
     "text": [
      "0.8273381294964028\n",
      "0.6\n",
      "0.6938775510204082\n",
      "presisi : 0.7070718935056036\n"
     ]
    }
   ],
   "source": [
    "fpos1 = 10+14\n",
    "fpos2 = 16+8\n",
    "fpos3 = 25+5\n",
    "\n",
    "pres1 = 115/(115+fpos1)\n",
    "pres2 =36/(36+fpos2)\n",
    "pres3 = 68/(68+fpos3)\n",
    "\n",
    "print(pres1)\n",
    "print(pres2)\n",
    "print(pres3)\n",
    "print ('presisi :',(pres1+pres2+pres3)/3)"
   ]
  },
  {
   "cell_type": "code",
   "execution_count": 283,
   "metadata": {},
   "outputs": [
    {
     "name": "stdout",
     "output_type": "stream",
     "text": [
      "0.7371794871794872\n",
      "0.7058823529411765\n",
      "0.7555555555555555\n",
      "recall : 0.7328724652254065\n"
     ]
    }
   ],
   "source": [
    "fneg1 = 25+16\n",
    "fneg2 = 10+5\n",
    "fneg3 = 14+8\n",
    "\n",
    "rec1 = 115/(115+fneg1)\n",
    "rec2 = 36/(36+fneg2)\n",
    "rec3 = 68/(68+fneg3)\n",
    "\n",
    "print(rec1)\n",
    "print(rec2)\n",
    "print(rec3)\n",
    "print ('recall :',(rec1+rec2+rec3)/3)"
   ]
  },
  {
   "cell_type": "code",
   "execution_count": 293,
   "metadata": {
    "scrolled": true
   },
   "outputs": [
    {
     "name": "stdout",
     "output_type": "stream",
     "text": [
      "              precision    recall  f1-score   support\n",
      "\n",
      "     Positif       0.74      0.83      0.78       139\n",
      "     Negatif       0.71      0.60      0.65        60\n",
      "      Netral       0.76      0.69      0.72        98\n",
      "\n",
      "    accuracy                           0.74       297\n",
      "   macro avg       0.73      0.71      0.72       297\n",
      "weighted avg       0.74      0.74      0.73       297\n",
      "\n"
     ]
    }
   ],
   "source": [
    "from sklearn.metrics import classification_report\n",
    "label = ['Positif','Negatif','Netral']\n",
    "\n",
    "print(classification_report(data_test['label'].tolist(),prediction_labels,labels=label))"
   ]
  },
  {
   "cell_type": "code",
   "execution_count": 219,
   "metadata": {},
   "outputs": [],
   "source": [
    "coba = ['faizal aji k']"
   ]
  },
  {
   "cell_type": "code",
   "execution_count": 222,
   "metadata": {},
   "outputs": [
    {
     "name": "stdout",
     "output_type": "stream",
     "text": [
      "Tensor(\"dropout_3/cond/Identity:0\", shape=(None, 128), dtype=float32)\n"
     ]
    }
   ],
   "source": [
    "tokens = [word_tokenize(sen) for sen in coba]\n",
    "\n",
    "X = tokenizer.texts_to_sequences(coba)\n",
    "Xx = pad_sequences(X, maxlen=maxlen)\n",
    "print(x)"
   ]
  },
  {
   "cell_type": "code",
   "execution_count": 223,
   "metadata": {},
   "outputs": [
    {
     "name": "stdout",
     "output_type": "stream",
     "text": [
      "1/1 [==============================] - 0s 9ms/step\n",
      "[[0.8284727  0.08323421 0.08829308]]\n"
     ]
    }
   ],
   "source": [
    "predictions = model.predict(Xx, batch_size=1, verbose=1)\n",
    "print(predictions)"
   ]
  },
  {
   "cell_type": "code",
   "execution_count": 107,
   "metadata": {
    "colab": {
     "base_uri": "https://localhost:8080/",
     "height": 68
    },
    "colab_type": "code",
    "id": "fH4hd4BO2m7x",
    "outputId": "f12c24f3-68de-4617-a99b-2576af6e2951"
   },
   "outputs": [
    {
     "name": "stdout",
     "output_type": "stream",
     "text": [
      "negatif : 45\n",
      "postifi : 168\n",
      "netral : 96\n"
     ]
    }
   ],
   "source": [
    "ab = 0\n",
    "ac = 0\n",
    "aa = 0\n",
    "for i in range(predictions.shape[0]):\n",
    "  if prediction_labels[i] == 1:\n",
    "      aa = aa+1\n",
    "  if prediction_labels[i] == 0:\n",
    "      ac = ac+1\n",
    "  if prediction_labels[i] == 2:\n",
    "      ab = ab+1\n",
    "print (\"negatif : \"+str(ac))\n",
    "print (\"postifi : \"+str(aa))\n",
    "print (\"netral : \"+str(ab))"
   ]
  },
  {
   "cell_type": "code",
   "execution_count": null,
   "metadata": {
    "colab": {
     "base_uri": "https://localhost:8080/",
     "height": 1000
    },
    "colab_type": "code",
    "id": "kJbjEYGA_WZh",
    "outputId": "98192b95-4422-4074-ce0f-5ddc856a5d13",
    "scrolled": false
   },
   "outputs": [],
   "source": [
    "fd = pd.DataFrame(data_test.label)\n",
    "dates = fd.values\n",
    "print (dates)"
   ]
  },
  {
   "cell_type": "code",
   "execution_count": 134,
   "metadata": {
    "colab": {},
    "colab_type": "code",
    "id": "SPgsDm662m74"
   },
   "outputs": [
    {
     "name": "stdout",
     "output_type": "stream",
     "text": [
      "Model: \"sequential_13\"\n",
      "_________________________________________________________________\n",
      "Layer (type)                 Output Shape              Param #   \n",
      "=================================================================\n",
      "embedding_13 (Embedding)     (None, 42, 100)           125400    \n",
      "_________________________________________________________________\n",
      "conv1d_29 (Conv1D)           (None, 38, 128)           64128     \n",
      "_________________________________________________________________\n",
      "max_pooling1d_25 (MaxPooling (None, 19, 128)           0         \n",
      "_________________________________________________________________\n",
      "conv1d_30 (Conv1D)           (None, 16, 256)           131328    \n",
      "_________________________________________________________________\n",
      "max_pooling1d_26 (MaxPooling (None, 8, 256)            0         \n",
      "_________________________________________________________________\n",
      "conv1d_31 (Conv1D)           (None, 6, 512)            393728    \n",
      "_________________________________________________________________\n",
      "max_pooling1d_27 (MaxPooling (None, 3, 512)            0         \n",
      "_________________________________________________________________\n",
      "flatten_9 (Flatten)          (None, 1536)              0         \n",
      "_________________________________________________________________\n",
      "dense_21 (Dense)             (None, 128)               196736    \n",
      "_________________________________________________________________\n",
      "dropout_11 (Dropout)         (None, 128)               0         \n",
      "_________________________________________________________________\n",
      "dense_22 (Dense)             (None, 3)                 387       \n",
      "=================================================================\n",
      "Total params: 911,707\n",
      "Trainable params: 911,707\n",
      "Non-trainable params: 0\n",
      "_________________________________________________________________\n"
     ]
    }
   ],
   "source": [
    "model.summary()"
   ]
  },
  {
   "cell_type": "code",
   "execution_count": 126,
   "metadata": {
    "colab": {
     "base_uri": "https://localhost:8080/",
     "height": 336
    },
    "colab_type": "code",
    "id": "f9xQ-XcO2m79",
    "outputId": "c6209434-f579-476b-bca9-0710beabecdb"
   },
   "outputs": [
    {
     "data": {
      "image/png": "[encoded data removed]",
      "text/plain": [
       "<Figure size 864x360 with 2 Axes>"
      ]
     },
     "metadata": {
      "needs_background": "light"
     },
     "output_type": "display_data"
    }
   ],
   "source": [
    "import matplotlib.pyplot as plt\n",
    "\n",
    "def plot_history(history):\n",
    "    acc = history.history['accuracy']\n",
    "    val_acc = history.history['val_accuracy']\n",
    "    loss = history.history['loss']\n",
    "    val_loss = history.history['val_loss']\n",
    "    x = range(1, len(acc) + 1)\n",
    "\n",
    "    plt.figure(figsize=(12, 5))\n",
    "    plt.subplot(1, 2, 1)\n",
    "    plt.plot(x, acc, 'b', label='Training accuracy')\n",
    "    plt.plot(x, val_acc, 'r', label='Validation accuracy')\n",
    "    plt.axis([1, 6, 0.6, 1.01])\n",
    "    plt.title('Training and validation accuracy')\n",
    "    plt.legend()\n",
    "    plt.subplot(1, 2, 2)\n",
    "    plt.plot(x, loss, 'b', label='Training loss')\n",
    "    plt.plot(x, val_loss, 'r', label='Validation loss')\n",
    "    plt.axis([1, 6, 0, 5])\n",
    "    plt.title('Training and validation loss')\n",
    "    plt.legend()\n",
    "\n",
    "%matplotlib inline\n",
    "plot_history(history)"
   ]
  },
  {
   "cell_type": "code",
   "execution_count": 46,
   "metadata": {
    "colab": {},
    "colab_type": "code",
    "id": "4TzZ43Jo2m8B",
    "outputId": "ed4013f6-7ed3-4d80-acb5-69a7be2eb315"
   },
   "outputs": [
    {
     "name": "stdout",
     "output_type": "stream",
     "text": [
      "20/20 [==============================] - 0s 6ms/step\n",
      "Prediction:  [[9.9894899e-01 1.0510816e-03]\n",
      " [3.2120775e-11 1.0000000e+00]\n",
      " [9.9827302e-01 1.7269817e-03]\n",
      " [9.9975199e-01 2.4806967e-04]\n",
      " [1.0592728e-08 1.0000000e+00]\n",
      " [3.3826379e-06 9.9999666e-01]\n",
      " [5.3134888e-02 9.4686514e-01]\n",
      " [9.9958318e-01 4.1687005e-04]\n",
      " [9.9963939e-01 3.6054550e-04]\n",
      " [1.4049165e-05 9.9998593e-01]\n",
      " [7.3509967e-01 2.6490039e-01]\n",
      " [9.9984932e-01 1.5071507e-04]\n",
      " [9.8709905e-05 9.9990129e-01]\n",
      " [9.9980265e-01 1.9734961e-04]\n",
      " [9.9986708e-01 1.3286316e-04]\n",
      " [1.1392741e-09 1.0000000e+00]\n",
      " [9.3718499e-01 6.2815033e-02]\n",
      " [9.9971515e-01 2.8485749e-04]\n",
      " [9.9070907e-01 9.2909755e-03]\n",
      " [9.9971646e-01 2.8355635e-04]]\n",
      "Wall time: 202 ms\n"
     ]
    }
   ],
   "source": [
    "%%time\n",
    "from keras.preprocessing.text import Tokenizer\n",
    "\n",
    "sample = ['nonton','pengin sendirian']\n",
    "\n",
    "tokens = [word_tokenize(sen) for sen in d.konten]\n",
    "\n",
    "X = tokenizer.texts_to_sequences(tokens)\n",
    "X = sequence.pad_sequences(X, padding='post', maxlen=maxlen)\n",
    "\n",
    "y_sample = model.predict(X,batch_size=1,verbose=True)\n",
    "\n",
    "print('Prediction: ',y_sample)"
   ]
  },
  {
   "cell_type": "code",
   "execution_count": 47,
   "metadata": {
    "colab": {},
    "colab_type": "code",
    "id": "YLdvn6wS2m8F",
    "outputId": "ab82380a-ee7b-4197-d631-421999df5414"
   },
   "outputs": [
    {
     "name": "stdout",
     "output_type": "stream",
     "text": [
      "1\n"
     ]
    }
   ],
   "source": [
    "print(y_sample[4].argmax())"
   ]
  },
  {
   "cell_type": "code",
   "execution_count": null,
   "metadata": {
    "colab": {},
    "colab_type": "code",
    "id": "29wgC45Z2m8L"
   },
   "outputs": [],
   "source": [
    "class_sentimen = ['POSITIF','NEGATIF','NETRAL']"
   ]
  },
  {
   "cell_type": "code",
   "execution_count": null,
   "metadata": {
    "colab": {},
    "colab_type": "code",
    "id": "4HP6lUYp2m8Q",
    "outputId": "c44aea93-397a-4cda-defe-82136bd75ded",
    "scrolled": true
   },
   "outputs": [
    {
     "name": "stdout",
     "output_type": "stream",
     "text": [
      "0 NETRAL\n",
      "1 NETRAL\n",
      "2 NEGATIF\n",
      "3 NEGATIF\n",
      "4 NEGATIF\n",
      "5 NEGATIF\n",
      "6 NEGATIF\n",
      "7 NEGATIF\n",
      "8 NEGATIF\n",
      "9 POSITIF\n",
      "10 NEGATIF\n",
      "11 NETRAL\n",
      "12 NEGATIF\n",
      "13 NETRAL\n",
      "14 NEGATIF\n",
      "15 NEGATIF\n"
     ]
    }
   ],
   "source": [
    "for i in range(y_sample.shape[0]):\n",
    "  print(str(i) + \" \" + class_sentimen[y_sample[i].argmax()])"
   ]
  },
  {
   "cell_type": "code",
   "execution_count": null,
   "metadata": {
    "colab": {},
    "colab_type": "code",
    "id": "6N3teW1r2m8T"
   },
   "outputs": [],
   "source": [
    "data=[\"bagus\"]"
   ]
  },
  {
   "cell_type": "code",
   "execution_count": null,
   "metadata": {
    "colab": {},
    "colab_type": "code",
    "id": "1UNzUCnE2m8X"
   },
   "outputs": [],
   "source": [
    "from bs4 import BeautifulSoup\n",
    "import string\n",
    "import numpy as np\n",
    "import pandas as pd\n",
    "import pickle\n",
    "from collections import defaultdict\n",
    "import re\n",
    "from bs4 import BeautifulSoup\n",
    "import sys\n",
    "import os"
   ]
  },
  {
   "cell_type": "code",
   "execution_count": null,
   "metadata": {
    "colab": {},
    "colab_type": "code",
    "id": "8YPdJqmo2m8a"
   },
   "outputs": [],
   "source": [
    "data = np.array(data)\n",
    "texts = []\n",
    "\n",
    "for i in range(data.shape[0]):\n",
    "  text = BeautifulSoup(data[i])\n",
    "  texts.append(str(text.get_text().encode()))"
   ]
  },
  {
   "cell_type": "code",
   "execution_count": null,
   "metadata": {
    "colab": {},
    "colab_type": "code",
    "id": "HTkSzCL32m8d",
    "outputId": "0915ad2a-36eb-41cf-890c-c0620a0b519e"
   },
   "outputs": [
    {
     "name": "stderr",
     "output_type": "stream",
     "text": [
      "[nltk_data] Downloading package punkt to\n",
      "[nltk_data]     C:\\Users\\fak\\AppData\\Roaming\\nltk_data...\n",
      "[nltk_data]   Package punkt is already up-to-date!\n"
     ]
    },
    {
     "data": {
      "text/plain": [
       "True"
      ]
     },
     "execution_count": 197,
     "metadata": {
      "tags": []
     },
     "output_type": "execute_result"
    }
   ],
   "source": [
    "import nltk\n",
    "nltk.download('punkt')"
   ]
  },
  {
   "cell_type": "code",
   "execution_count": null,
   "metadata": {
    "colab": {},
    "colab_type": "code",
    "id": "hK2oWDbx2m8g",
    "outputId": "8d4e3be1-46f1-4b3e-9c0c-601f018138e3"
   },
   "outputs": [
    {
     "name": "stdout",
     "output_type": "stream",
     "text": [
      "Number of Unique Tokens 838\n"
     ]
    }
   ],
   "source": [
    "sequences = tokenizer.texts_to_sequences(data)\n",
    "\n",
    "word_index = tokenizer.word_index\n",
    "print('Number of Unique Tokens',len(word_index))"
   ]
  },
  {
   "cell_type": "code",
   "execution_count": null,
   "metadata": {
    "colab": {},
    "colab_type": "code",
    "id": "OTU-PBqe2m8j",
    "outputId": "8fe1e773-8491-4d5c-875d-9b2e65d26aae"
   },
   "outputs": [
    {
     "name": "stdout",
     "output_type": "stream",
     "text": [
      "['bagus']\n"
     ]
    }
   ],
   "source": [
    "print(data)"
   ]
  },
  {
   "cell_type": "code",
   "execution_count": null,
   "metadata": {
    "colab": {},
    "colab_type": "code",
    "id": "V3DA6oOq2m8p",
    "outputId": "73da4419-f0de-4424-8669-cf8e723dabbd"
   },
   "outputs": [
    {
     "name": "stdout",
     "output_type": "stream",
     "text": [
      "[[0 0 0 0 0 0 0 0 0 0 0 0 0 0 0 0 0 0 0 0 0 0 0 0 0 0 0 0 0 0 0 0 0 0 0 0\n",
      "  0 0 0 0 0 0 0 0 0 0 0 0 0 0 0 0 0 0 0 0 0 0 0 0 0 0 0 0 0 0 0 0 0 0 0 0\n",
      "  0 0 0 0 0 0 0 0 0 0 0 0 0 0 0 0 0 0 0 0 0 0 0 0 0 0 0 0 0 0 0 0 0 0 0 0\n",
      "  0 0 0 0 0 0 0 0 0 0 0 0 0 0 0 0 0 0 0 0 0 0 0 0 0 0 0 0 0 0 0 0 0 0 0 8]]\n"
     ]
    }
   ],
   "source": [
    "test_cnn_data = pad_sequences(sequences, maxlen=maxlen)\n",
    "x_test = test_cnn_data\n",
    "print(x_test)"
   ]
  },
  {
   "cell_type": "code",
   "execution_count": null,
   "metadata": {
    "colab": {},
    "colab_type": "code",
    "id": "jPLEJ49W2m8s"
   },
   "outputs": [],
   "source": [
    "prediksi = model.predict(x_test, batch_size=1)"
   ]
  },
  {
   "cell_type": "code",
   "execution_count": null,
   "metadata": {
    "colab": {},
    "colab_type": "code",
    "id": "jJ0IPohV2m8w",
    "outputId": "43bf6b0d-b5b6-4275-e388-6e8b444e13df"
   },
   "outputs": [
    {
     "name": "stdout",
     "output_type": "stream",
     "text": [
      "[[0.26773286 0.42862236 0.52048594]]\n"
     ]
    }
   ],
   "source": [
    "print (prediksi)"
   ]
  },
  {
   "cell_type": "code",
   "execution_count": null,
   "metadata": {
    "colab": {},
    "colab_type": "code",
    "id": "MUvO9OGO2m8z",
    "outputId": "7419d568-6e51-476b-d1f5-9973addda450"
   },
   "outputs": [
    {
     "name": "stdout",
     "output_type": "stream",
     "text": [
      "0 NETRAL\n"
     ]
    }
   ],
   "source": [
    "for i in range(prediksi.shape[0]):\n",
    "  print(str(i) + \" \" + class_sentimen[prediksi[i].argmax()])"
   ]
  },
  {
   "cell_type": "code",
   "execution_count": null,
   "metadata": {
    "colab": {},
    "colab_type": "code",
    "id": "tvCxQM_KmHdS"
   },
   "outputs": [],
   "source": [
    "model.save('/content/drive/My Drive/Skripsi/crawling/modelcnn_v1.h5')"
   ]
  },
  {
   "cell_type": "code",
   "execution_count": 127,
   "metadata": {
    "colab": {
     "base_uri": "https://localhost:8080/",
     "height": 34
    },
    "colab_type": "code",
    "id": "EiiL2a9eMVsC",
    "outputId": "eab4c74d-0fc9-46cf-fdb6-b96f87de2262",
    "scrolled": true
   },
   "outputs": [
    {
     "name": "stdout",
     "output_type": "stream",
     "text": [
      "Model saved to disk\n"
     ]
    }
   ],
   "source": [
    "model_json = model.to_json()\n",
    "with open('D:\\Tugas\\Skripsi\\model\\model_cnn3class_kim_v7.json','w') as json_file:\n",
    "    json_file.write(model_json)\n",
    "model.save_weights(\"D:\\Tugas\\Skripsi\\model\\model_cnn3class_kim_v7.h5\")\n",
    "print(\"Model saved to disk\")"
   ]
  },
  {
   "cell_type": "code",
   "execution_count": 128,
   "metadata": {
    "colab": {},
    "colab_type": "code",
    "id": "w-U8RzxjnUD4"
   },
   "outputs": [],
   "source": [
    "import pickle"
   ]
  },
  {
   "cell_type": "markdown",
   "metadata": {},
   "source": [
    "hhhh"
   ]
  },
  {
   "cell_type": "code",
   "execution_count": 129,
   "metadata": {
    "colab": {},
    "colab_type": "code",
    "id": "lPcOfqRTnUD-"
   },
   "outputs": [],
   "source": [
    "with open('D:/Tugas/Skripsi/model/tokenizer_model_cnn3class_kim_v7.pickle', 'wb') as handle:\n",
    "    pickle.dump(tokenizer, handle, protocol=pickle.HIGHEST_PROTOCOL)"
   ]
  },
  {
   "cell_type": "code",
   "execution_count": 1,
   "metadata": {
    "colab": {},
    "colab_type": "code",
    "id": "n0NPVa5coFae",
    "scrolled": false
   },
   "outputs": [
    {
     "data": {
      "image/png": "[encoded data removed]",
      "text/plain": [
       "<Figure size 432x288 with 1 Axes>"
      ]
     },
     "metadata": {
      "needs_background": "light"
     },
     "output_type": "display_data"
    }
   ],
   "source": [
    "import matplotlib.pyplot as plt\n",
    "x = [2,4,6,7,9,13,19,26,29,31,36,40,48,51,57,67,69,71,78,88]\n",
    "y = [54,72,43,2,8,98,109,5,35,28,48,83,94,84,73,11,464,75,200,54]\n",
    "plt.scatter(x,y)\n",
    "plt.show()"
   ]
  },
  {
   "cell_type": "code",
   "execution_count": 294,
   "metadata": {},
   "outputs": [],
   "source": [
    "pd.DataFrame.from_dict(data_test).to_csv(\"{}.csv\".format('datauji_sent+spam'))"
   ]
  },
  {
   "cell_type": "code",
   "execution_count": 83,
   "metadata": {},
   "outputs": [],
   "source": [
    "from sklearn.cluster import MiniBatchKMeans\n",
    "from sklearn.feature_extraction.text import TfidfVectorizer\n",
    "from sklearn.decomposition import PCA\n",
    "import matplotlib.pyplot as plt\n",
    "\n",
    "vec = TfidfVectorizer()\n",
    "vec.fit(d.Text_Final)\n",
    "features = vec.transform(d.Text_Final)"
   ]
  },
  {
   "cell_type": "code",
   "execution_count": 128,
   "metadata": {},
   "outputs": [
    {
     "data": {
      "text/plain": [
       "MiniBatchKMeans(batch_size=100, compute_labels=True, init='k-means++',\n",
       "                init_size=None, max_iter=100, max_no_improvement=10,\n",
       "                n_clusters=3, n_init=3, random_state=None,\n",
       "                reassignment_ratio=0.01, tol=0.0, verbose=0)"
      ]
     },
     "execution_count": 128,
     "metadata": {},
     "output_type": "execute_result"
    }
   ],
   "source": [
    "cls = MiniBatchKMeans(n_clusters=3)\n",
    "cls.fit(features)"
   ]
  },
  {
   "cell_type": "code",
   "execution_count": 129,
   "metadata": {},
   "outputs": [
    {
     "name": "stdout",
     "output_type": "stream",
     "text": [
      "[1 1 0 ... 0 1 2]\n"
     ]
    },
    {
     "data": {
      "text/plain": [
       "array([1, 1, 0, ..., 0, 1, 2])"
      ]
     },
     "execution_count": 129,
     "metadata": {},
     "output_type": "execute_result"
    }
   ],
   "source": [
    "print(cls.predict(features))\n",
    "\n",
    "# to get cluster labels for the dataset used while\n",
    "# training the model (used for models that does not\n",
    "# support prediction on new dataset).\n",
    "cls.labels_"
   ]
  },
  {
   "cell_type": "code",
   "execution_count": 130,
   "metadata": {},
   "outputs": [],
   "source": [
    "pca = PCA(n_components=2, random_state=0)\n",
    "reduced_features = pca.fit_transform(features.toarray())\n",
    "\n",
    "# reduce the cluster centers to 2D\n",
    "reduced_cluster_centers = pca.transform(cls.cluster_centers_)"
   ]
  },
  {
   "cell_type": "code",
   "execution_count": 139,
   "metadata": {
    "scrolled": true
   },
   "outputs": [
    {
     "data": {
      "text/plain": [
       "<matplotlib.collections.PathCollection at 0x1c032d6c2c8>"
      ]
     },
     "execution_count": 139,
     "metadata": {},
     "output_type": "execute_result"
    },
    {
     "data": {
      "image/png": "[encoded data removed]",
      "text/plain": [
       "<Figure size 432x288 with 1 Axes>"
      ]
     },
     "metadata": {
      "needs_background": "light"
     },
     "output_type": "display_data"
    }
   ],
   "source": [
    "plt.scatter(reduced_features[:,0], reduced_features[:,1], c=cls.predict(features))\n",
    "plt.scatter(reduced_cluster_centers[:, 0], reduced_cluster_centers[:,1], marker='x', s=150, c='r')"
   ]
  },
  {
   "cell_type": "code",
   "execution_count": 132,
   "metadata": {},
   "outputs": [],
   "source": [
    "po = []\n",
    "for l in d.label:\n",
    "    if l == 'Positif':\n",
    "        po.append(1)\n",
    "    if l == 'Negatif':\n",
    "        po.append(0)\n",
    "    if l == 'Netral':\n",
    "        po.append(2)\n",
    "d['lab'] = po\n",
    "y = d['lab']"
   ]
  },
  {
   "cell_type": "code",
   "execution_count": 136,
   "metadata": {},
   "outputs": [
    {
     "data": {
      "text/plain": [
       "0.03233154854234482"
      ]
     },
     "execution_count": 136,
     "metadata": {},
     "output_type": "execute_result"
    }
   ],
   "source": [
    "from sklearn.metrics import homogeneity_score\n",
    "homogeneity_score(po, cls.predict(features))"
   ]
  },
  {
   "cell_type": "code",
   "execution_count": 134,
   "metadata": {},
   "outputs": [
    {
     "data": {
      "text/plain": [
       "0.006061230985877814"
      ]
     },
     "execution_count": 134,
     "metadata": {},
     "output_type": "execute_result"
    }
   ],
   "source": [
    "from sklearn.metrics import silhouette_score\n",
    "silhouette_score(features, labels=cls.predict(features))"
   ]
  },
  {
   "cell_type": "code",
   "execution_count": null,
   "metadata": {},
   "outputs": [],
   "source": []
  }
 ],
 "metadata": {
  "colab": {
   "collapsed_sections": [],
   "name": "Untitled10.ipynb",
   "provenance": []
  },
  "kernelspec": {
   "display_name": "Python 3",
   "language": "python",
   "name": "python3"
  },
  "language_info": {
   "codemirror_mode": {
    "name": "ipython",
    "version": 3
   },
   "file_extension": ".py",
   "mimetype": "text/x-python",
   "name": "python",
   "nbconvert_exporter": "python",
   "pygments_lexer": "ipython3",
   "version": "3.7.4"
  }
 },
 "nbformat": 4,
 "nbformat_minor": 1
}
